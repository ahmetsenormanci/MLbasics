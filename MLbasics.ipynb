{
  "nbformat": 4,
  "nbformat_minor": 0,
  "metadata": {
    "colab": {
      "name": "Colaboratory'ye Hoş Geldiniz",
      "provenance": [],
      "collapsed_sections": [],
      "include_colab_link": true
    },
    "kernelspec": {
      "display_name": "Python 3",
      "name": "python3"
    }
  },
  "cells": [
    {
      "cell_type": "markdown",
      "metadata": {
        "id": "view-in-github",
        "colab_type": "text"
      },
      "source": [
        "<a href=\"https://colab.research.google.com/github/ahmetsenormanci/MLbasics/blob/main/MLbasics.ipynb\" target=\"_parent\"><img src=\"https://colab.research.google.com/assets/colab-badge.svg\" alt=\"Open In Colab\"/></a>"
      ]
    },
    {
      "cell_type": "code",
      "metadata": {
        "id": "gu0-F_QNrfip"
      },
      "source": [
        "import os\n",
        "import tarfile\n",
        "import urllib.request\n",
        "PROJECT_ROOT_DIR = \".\"\n",
        "CHAPTER_ID = \"end_to_end_project\"\n",
        "IMAGES_PATH = os.path.join(PROJECT_ROOT_DIR, \"images\", CHAPTER_ID)\n",
        "os.makedirs(IMAGES_PATH, exist_ok=True)\n",
        "DOWNLOAD_ROOT = \"https://raw.githubusercontent.com/ageron/handson-ml2/master/\"\n",
        "HOUSING_PATH = os.path.join(\"datasets\", \"housing\")\n",
        "HOUSING_URL = DOWNLOAD_ROOT + \"datasets/housing/housing.tgz\"\n",
        "\n",
        "def fetch_housing_data(housing_url=HOUSING_URL, housing_path=HOUSING_PATH):\n",
        "    if not os.path.isdir(housing_path):\n",
        "        os.makedirs(housing_path)\n",
        "    tgz_path = os.path.join(housing_path, \"housing.tgz\")\n",
        "    urllib.request.urlretrieve(housing_url, tgz_path)\n",
        "    housing_tgz = tarfile.open(tgz_path)\n",
        "    housing_tgz.extractall(path=housing_path)\n",
        "    housing_tgz.close()"
      ],
      "execution_count": 232,
      "outputs": []
    },
    {
      "cell_type": "code",
      "metadata": {
        "id": "OBnUxqd1sZ_f"
      },
      "source": [
        "fetch_housing_data()"
      ],
      "execution_count": 233,
      "outputs": []
    },
    {
      "cell_type": "code",
      "metadata": {
        "id": "CRu13a17tG6Z"
      },
      "source": [
        "import pandas as pd\n",
        "\n",
        "def load_housing_data(housing_path=HOUSING_PATH):\n",
        "    csv_path = os.path.join(housing_path, \"housing.csv\")\n",
        "    return pd.read_csv(csv_path)"
      ],
      "execution_count": 234,
      "outputs": []
    },
    {
      "cell_type": "code",
      "metadata": {
        "id": "qwunmE7SulAu",
        "outputId": "56a34285-24e9-4fdf-93d9-45946ac30723",
        "colab": {
          "base_uri": "https://localhost:8080/",
          "height": 224
        }
      },
      "source": [
        "housing = load_housing_data()\n",
        "housing.head()"
      ],
      "execution_count": 235,
      "outputs": [
        {
          "output_type": "execute_result",
          "data": {
            "text/html": [
              "<div>\n",
              "<style scoped>\n",
              "    .dataframe tbody tr th:only-of-type {\n",
              "        vertical-align: middle;\n",
              "    }\n",
              "\n",
              "    .dataframe tbody tr th {\n",
              "        vertical-align: top;\n",
              "    }\n",
              "\n",
              "    .dataframe thead th {\n",
              "        text-align: right;\n",
              "    }\n",
              "</style>\n",
              "<table border=\"1\" class=\"dataframe\">\n",
              "  <thead>\n",
              "    <tr style=\"text-align: right;\">\n",
              "      <th></th>\n",
              "      <th>longitude</th>\n",
              "      <th>latitude</th>\n",
              "      <th>housing_median_age</th>\n",
              "      <th>total_rooms</th>\n",
              "      <th>total_bedrooms</th>\n",
              "      <th>population</th>\n",
              "      <th>households</th>\n",
              "      <th>median_income</th>\n",
              "      <th>median_house_value</th>\n",
              "      <th>ocean_proximity</th>\n",
              "    </tr>\n",
              "  </thead>\n",
              "  <tbody>\n",
              "    <tr>\n",
              "      <th>0</th>\n",
              "      <td>-122.23</td>\n",
              "      <td>37.88</td>\n",
              "      <td>41.0</td>\n",
              "      <td>880.0</td>\n",
              "      <td>129.0</td>\n",
              "      <td>322.0</td>\n",
              "      <td>126.0</td>\n",
              "      <td>8.3252</td>\n",
              "      <td>452600.0</td>\n",
              "      <td>NEAR BAY</td>\n",
              "    </tr>\n",
              "    <tr>\n",
              "      <th>1</th>\n",
              "      <td>-122.22</td>\n",
              "      <td>37.86</td>\n",
              "      <td>21.0</td>\n",
              "      <td>7099.0</td>\n",
              "      <td>1106.0</td>\n",
              "      <td>2401.0</td>\n",
              "      <td>1138.0</td>\n",
              "      <td>8.3014</td>\n",
              "      <td>358500.0</td>\n",
              "      <td>NEAR BAY</td>\n",
              "    </tr>\n",
              "    <tr>\n",
              "      <th>2</th>\n",
              "      <td>-122.24</td>\n",
              "      <td>37.85</td>\n",
              "      <td>52.0</td>\n",
              "      <td>1467.0</td>\n",
              "      <td>190.0</td>\n",
              "      <td>496.0</td>\n",
              "      <td>177.0</td>\n",
              "      <td>7.2574</td>\n",
              "      <td>352100.0</td>\n",
              "      <td>NEAR BAY</td>\n",
              "    </tr>\n",
              "    <tr>\n",
              "      <th>3</th>\n",
              "      <td>-122.25</td>\n",
              "      <td>37.85</td>\n",
              "      <td>52.0</td>\n",
              "      <td>1274.0</td>\n",
              "      <td>235.0</td>\n",
              "      <td>558.0</td>\n",
              "      <td>219.0</td>\n",
              "      <td>5.6431</td>\n",
              "      <td>341300.0</td>\n",
              "      <td>NEAR BAY</td>\n",
              "    </tr>\n",
              "    <tr>\n",
              "      <th>4</th>\n",
              "      <td>-122.25</td>\n",
              "      <td>37.85</td>\n",
              "      <td>52.0</td>\n",
              "      <td>1627.0</td>\n",
              "      <td>280.0</td>\n",
              "      <td>565.0</td>\n",
              "      <td>259.0</td>\n",
              "      <td>3.8462</td>\n",
              "      <td>342200.0</td>\n",
              "      <td>NEAR BAY</td>\n",
              "    </tr>\n",
              "  </tbody>\n",
              "</table>\n",
              "</div>"
            ],
            "text/plain": [
              "   longitude  latitude  ...  median_house_value  ocean_proximity\n",
              "0    -122.23     37.88  ...            452600.0         NEAR BAY\n",
              "1    -122.22     37.86  ...            358500.0         NEAR BAY\n",
              "2    -122.24     37.85  ...            352100.0         NEAR BAY\n",
              "3    -122.25     37.85  ...            341300.0         NEAR BAY\n",
              "4    -122.25     37.85  ...            342200.0         NEAR BAY\n",
              "\n",
              "[5 rows x 10 columns]"
            ]
          },
          "metadata": {
            "tags": []
          },
          "execution_count": 235
        }
      ]
    },
    {
      "cell_type": "code",
      "metadata": {
        "id": "h5ikkzB_vRJa",
        "outputId": "9d35e022-99ce-4920-89e7-bde2b4f500e9",
        "colab": {
          "base_uri": "https://localhost:8080/"
        }
      },
      "source": [
        "housing.info()"
      ],
      "execution_count": 236,
      "outputs": [
        {
          "output_type": "stream",
          "text": [
            "<class 'pandas.core.frame.DataFrame'>\n",
            "RangeIndex: 20640 entries, 0 to 20639\n",
            "Data columns (total 10 columns):\n",
            " #   Column              Non-Null Count  Dtype  \n",
            "---  ------              --------------  -----  \n",
            " 0   longitude           20640 non-null  float64\n",
            " 1   latitude            20640 non-null  float64\n",
            " 2   housing_median_age  20640 non-null  float64\n",
            " 3   total_rooms         20640 non-null  float64\n",
            " 4   total_bedrooms      20433 non-null  float64\n",
            " 5   population          20640 non-null  float64\n",
            " 6   households          20640 non-null  float64\n",
            " 7   median_income       20640 non-null  float64\n",
            " 8   median_house_value  20640 non-null  float64\n",
            " 9   ocean_proximity     20640 non-null  object \n",
            "dtypes: float64(9), object(1)\n",
            "memory usage: 1.6+ MB\n"
          ],
          "name": "stdout"
        }
      ]
    },
    {
      "cell_type": "code",
      "metadata": {
        "id": "zD1CzChKv_Ip",
        "outputId": "3f85b659-5973-4e7b-d5c0-14679f67ed22",
        "colab": {
          "base_uri": "https://localhost:8080/"
        }
      },
      "source": [
        "housing[\"ocean_proximity\"].value_counts()"
      ],
      "execution_count": 237,
      "outputs": [
        {
          "output_type": "execute_result",
          "data": {
            "text/plain": [
              "<1H OCEAN     9136\n",
              "INLAND        6551\n",
              "NEAR OCEAN    2658\n",
              "NEAR BAY      2290\n",
              "ISLAND           5\n",
              "Name: ocean_proximity, dtype: int64"
            ]
          },
          "metadata": {
            "tags": []
          },
          "execution_count": 237
        }
      ]
    },
    {
      "cell_type": "code",
      "metadata": {
        "id": "hU8eyqpKwC_U",
        "outputId": "98c93327-eaef-4661-9856-6f6a4d269f19",
        "colab": {
          "base_uri": "https://localhost:8080/",
          "height": 317
        }
      },
      "source": [
        "housing.describe()"
      ],
      "execution_count": 238,
      "outputs": [
        {
          "output_type": "execute_result",
          "data": {
            "text/html": [
              "<div>\n",
              "<style scoped>\n",
              "    .dataframe tbody tr th:only-of-type {\n",
              "        vertical-align: middle;\n",
              "    }\n",
              "\n",
              "    .dataframe tbody tr th {\n",
              "        vertical-align: top;\n",
              "    }\n",
              "\n",
              "    .dataframe thead th {\n",
              "        text-align: right;\n",
              "    }\n",
              "</style>\n",
              "<table border=\"1\" class=\"dataframe\">\n",
              "  <thead>\n",
              "    <tr style=\"text-align: right;\">\n",
              "      <th></th>\n",
              "      <th>longitude</th>\n",
              "      <th>latitude</th>\n",
              "      <th>housing_median_age</th>\n",
              "      <th>total_rooms</th>\n",
              "      <th>total_bedrooms</th>\n",
              "      <th>population</th>\n",
              "      <th>households</th>\n",
              "      <th>median_income</th>\n",
              "      <th>median_house_value</th>\n",
              "    </tr>\n",
              "  </thead>\n",
              "  <tbody>\n",
              "    <tr>\n",
              "      <th>count</th>\n",
              "      <td>20640.000000</td>\n",
              "      <td>20640.000000</td>\n",
              "      <td>20640.000000</td>\n",
              "      <td>20640.000000</td>\n",
              "      <td>20433.000000</td>\n",
              "      <td>20640.000000</td>\n",
              "      <td>20640.000000</td>\n",
              "      <td>20640.000000</td>\n",
              "      <td>20640.000000</td>\n",
              "    </tr>\n",
              "    <tr>\n",
              "      <th>mean</th>\n",
              "      <td>-119.569704</td>\n",
              "      <td>35.631861</td>\n",
              "      <td>28.639486</td>\n",
              "      <td>2635.763081</td>\n",
              "      <td>537.870553</td>\n",
              "      <td>1425.476744</td>\n",
              "      <td>499.539680</td>\n",
              "      <td>3.870671</td>\n",
              "      <td>206855.816909</td>\n",
              "    </tr>\n",
              "    <tr>\n",
              "      <th>std</th>\n",
              "      <td>2.003532</td>\n",
              "      <td>2.135952</td>\n",
              "      <td>12.585558</td>\n",
              "      <td>2181.615252</td>\n",
              "      <td>421.385070</td>\n",
              "      <td>1132.462122</td>\n",
              "      <td>382.329753</td>\n",
              "      <td>1.899822</td>\n",
              "      <td>115395.615874</td>\n",
              "    </tr>\n",
              "    <tr>\n",
              "      <th>min</th>\n",
              "      <td>-124.350000</td>\n",
              "      <td>32.540000</td>\n",
              "      <td>1.000000</td>\n",
              "      <td>2.000000</td>\n",
              "      <td>1.000000</td>\n",
              "      <td>3.000000</td>\n",
              "      <td>1.000000</td>\n",
              "      <td>0.499900</td>\n",
              "      <td>14999.000000</td>\n",
              "    </tr>\n",
              "    <tr>\n",
              "      <th>25%</th>\n",
              "      <td>-121.800000</td>\n",
              "      <td>33.930000</td>\n",
              "      <td>18.000000</td>\n",
              "      <td>1447.750000</td>\n",
              "      <td>296.000000</td>\n",
              "      <td>787.000000</td>\n",
              "      <td>280.000000</td>\n",
              "      <td>2.563400</td>\n",
              "      <td>119600.000000</td>\n",
              "    </tr>\n",
              "    <tr>\n",
              "      <th>50%</th>\n",
              "      <td>-118.490000</td>\n",
              "      <td>34.260000</td>\n",
              "      <td>29.000000</td>\n",
              "      <td>2127.000000</td>\n",
              "      <td>435.000000</td>\n",
              "      <td>1166.000000</td>\n",
              "      <td>409.000000</td>\n",
              "      <td>3.534800</td>\n",
              "      <td>179700.000000</td>\n",
              "    </tr>\n",
              "    <tr>\n",
              "      <th>75%</th>\n",
              "      <td>-118.010000</td>\n",
              "      <td>37.710000</td>\n",
              "      <td>37.000000</td>\n",
              "      <td>3148.000000</td>\n",
              "      <td>647.000000</td>\n",
              "      <td>1725.000000</td>\n",
              "      <td>605.000000</td>\n",
              "      <td>4.743250</td>\n",
              "      <td>264725.000000</td>\n",
              "    </tr>\n",
              "    <tr>\n",
              "      <th>max</th>\n",
              "      <td>-114.310000</td>\n",
              "      <td>41.950000</td>\n",
              "      <td>52.000000</td>\n",
              "      <td>39320.000000</td>\n",
              "      <td>6445.000000</td>\n",
              "      <td>35682.000000</td>\n",
              "      <td>6082.000000</td>\n",
              "      <td>15.000100</td>\n",
              "      <td>500001.000000</td>\n",
              "    </tr>\n",
              "  </tbody>\n",
              "</table>\n",
              "</div>"
            ],
            "text/plain": [
              "          longitude      latitude  ...  median_income  median_house_value\n",
              "count  20640.000000  20640.000000  ...   20640.000000        20640.000000\n",
              "mean    -119.569704     35.631861  ...       3.870671       206855.816909\n",
              "std        2.003532      2.135952  ...       1.899822       115395.615874\n",
              "min     -124.350000     32.540000  ...       0.499900        14999.000000\n",
              "25%     -121.800000     33.930000  ...       2.563400       119600.000000\n",
              "50%     -118.490000     34.260000  ...       3.534800       179700.000000\n",
              "75%     -118.010000     37.710000  ...       4.743250       264725.000000\n",
              "max     -114.310000     41.950000  ...      15.000100       500001.000000\n",
              "\n",
              "[8 rows x 9 columns]"
            ]
          },
          "metadata": {
            "tags": []
          },
          "execution_count": 238
        }
      ]
    },
    {
      "cell_type": "code",
      "metadata": {
        "id": "0sN63VoewUx_",
        "outputId": "eb26fe67-c4f7-4bbd-baf0-806b0af1ccf1",
        "colab": {
          "base_uri": "https://localhost:8080/",
          "height": 507
        }
      },
      "source": [
        "%matplotlib inline\n",
        "import matplotlib.pyplot as plt\n",
        "housing.hist(bins=50, figsize=(20,15))\n",
        "save_fig(\"attribute_histogram_plots\")\n",
        "plt.show()"
      ],
      "execution_count": 239,
      "outputs": [
        {
          "output_type": "stream",
          "text": [
            "Saving image.. attribute_histogram_plots\n"
          ],
          "name": "stdout"
        },
        {
          "output_type": "display_data",
          "data": {
            "image/png": "[encoded data removed]",
            "text/plain": [
              "<Figure size 1440x1080 with 9 Axes>"
            ]
          },
          "metadata": {
            "tags": [],
            "needs_background": "light"
          }
        }
      ]
    },
    {
      "cell_type": "code",
      "metadata": {
        "id": "M-GtHmcKwksR"
      },
      "source": [
        "# to make this notebook's output identical at every run\n",
        "np.random.seed(42)"
      ],
      "execution_count": 240,
      "outputs": []
    },
    {
      "cell_type": "code",
      "metadata": {
        "id": "qH0sHE84wryK"
      },
      "source": [
        "import numpy as np\n",
        "\n",
        "# For illustration only. Sklearn has train_test_split()\n",
        "def split_train_test(data, test_ratio):\n",
        "    shuffled_indices = np.random.permutation(len(data))\n",
        "    test_set_size = int(len(data) * test_ratio)\n",
        "    test_indices = shuffled_indices[:test_set_size]\n",
        "    train_indices = shuffled_indices[test_set_size:]\n",
        "    return data.iloc[train_indices], data.iloc[test_indices]"
      ],
      "execution_count": 241,
      "outputs": []
    },
    {
      "cell_type": "code",
      "metadata": {
        "id": "gBsiazc-xbC7",
        "outputId": "6b36c493-c834-4c4e-c423-658b1e8c7dfd",
        "colab": {
          "base_uri": "https://localhost:8080/"
        }
      },
      "source": [
        "train_set, test_set = split_train_test(housing, 0.2)\n",
        "len(train_set)"
      ],
      "execution_count": 242,
      "outputs": [
        {
          "output_type": "execute_result",
          "data": {
            "text/plain": [
              "16512"
            ]
          },
          "metadata": {
            "tags": []
          },
          "execution_count": 242
        }
      ]
    },
    {
      "cell_type": "code",
      "metadata": {
        "id": "B81jhjAvx6xn",
        "outputId": "edd546cc-48f7-408d-9ad5-811a5f822eba",
        "colab": {
          "base_uri": "https://localhost:8080/"
        }
      },
      "source": [
        "len(test_set)"
      ],
      "execution_count": 243,
      "outputs": [
        {
          "output_type": "execute_result",
          "data": {
            "text/plain": [
              "4128"
            ]
          },
          "metadata": {
            "tags": []
          },
          "execution_count": 243
        }
      ]
    },
    {
      "cell_type": "code",
      "metadata": {
        "id": "z9vOhWFTyS2I"
      },
      "source": [
        "from zlib import crc32\n",
        "\n",
        "def test_set_check(identifier, test_ratio):\n",
        "    return crc32(np.int64(identifier)) & 0xffffffff < test_ratio * 2**32\n",
        "\n",
        "def split_train_test_by_id(data, test_ratio, id_column):\n",
        "    ids = data[id_column]\n",
        "    in_test_set = ids.apply(lambda id_: test_set_check(id_, test_ratio))\n",
        "    return data.loc[~in_test_set], data.loc[in_test_set]"
      ],
      "execution_count": 244,
      "outputs": []
    },
    {
      "cell_type": "code",
      "metadata": {
        "id": "KG2WMhfuyUHg"
      },
      "source": [
        "import hashlib\n",
        "\n",
        "def test_set_check(identifier, test_ratio, hash=hashlib.md5):\n",
        "    return hash(np.int64(identifier)).digest()[-1] < 256 * test_ratio"
      ],
      "execution_count": 245,
      "outputs": []
    },
    {
      "cell_type": "code",
      "metadata": {
        "id": "QrMwKj59zEBJ"
      },
      "source": [
        "def test_set_check(identifier, test_ratio, hash=hashlib.md5):\n",
        "    return bytearray(hash(np.int64(identifier)).digest())[-1] < 256 * test_ratio"
      ],
      "execution_count": 246,
      "outputs": []
    },
    {
      "cell_type": "code",
      "metadata": {
        "id": "vGVGM0w2zX2M"
      },
      "source": [
        "housing_with_id = housing.reset_index()   # adds an `index` column\n",
        "train_set, test_set = split_train_test_by_id(housing_with_id, 0.2, \"index\")"
      ],
      "execution_count": 247,
      "outputs": []
    },
    {
      "cell_type": "code",
      "metadata": {
        "id": "VFtDHx6-4Izr"
      },
      "source": [
        "housing_with_id[\"id\"] = housing[\"longitude\"] * 1000 + housing[\"latitude\"]\n",
        "train_set, test_set = split_train_test_by_id(housing_with_id, 0.2, \"id\")"
      ],
      "execution_count": 248,
      "outputs": []
    },
    {
      "cell_type": "code",
      "metadata": {
        "id": "ESJkFXOx_pXY",
        "outputId": "4be29a78-2af0-4c50-972a-74eb1006d075",
        "colab": {
          "base_uri": "https://localhost:8080/",
          "height": 224
        }
      },
      "source": [
        "test_set.head()"
      ],
      "execution_count": 249,
      "outputs": [
        {
          "output_type": "execute_result",
          "data": {
            "text/html": [
              "<div>\n",
              "<style scoped>\n",
              "    .dataframe tbody tr th:only-of-type {\n",
              "        vertical-align: middle;\n",
              "    }\n",
              "\n",
              "    .dataframe tbody tr th {\n",
              "        vertical-align: top;\n",
              "    }\n",
              "\n",
              "    .dataframe thead th {\n",
              "        text-align: right;\n",
              "    }\n",
              "</style>\n",
              "<table border=\"1\" class=\"dataframe\">\n",
              "  <thead>\n",
              "    <tr style=\"text-align: right;\">\n",
              "      <th></th>\n",
              "      <th>index</th>\n",
              "      <th>longitude</th>\n",
              "      <th>latitude</th>\n",
              "      <th>housing_median_age</th>\n",
              "      <th>total_rooms</th>\n",
              "      <th>total_bedrooms</th>\n",
              "      <th>population</th>\n",
              "      <th>households</th>\n",
              "      <th>median_income</th>\n",
              "      <th>median_house_value</th>\n",
              "      <th>ocean_proximity</th>\n",
              "      <th>id</th>\n",
              "    </tr>\n",
              "  </thead>\n",
              "  <tbody>\n",
              "    <tr>\n",
              "      <th>8</th>\n",
              "      <td>8</td>\n",
              "      <td>-122.26</td>\n",
              "      <td>37.84</td>\n",
              "      <td>42.0</td>\n",
              "      <td>2555.0</td>\n",
              "      <td>665.0</td>\n",
              "      <td>1206.0</td>\n",
              "      <td>595.0</td>\n",
              "      <td>2.0804</td>\n",
              "      <td>226700.0</td>\n",
              "      <td>NEAR BAY</td>\n",
              "      <td>-122222.16</td>\n",
              "    </tr>\n",
              "    <tr>\n",
              "      <th>10</th>\n",
              "      <td>10</td>\n",
              "      <td>-122.26</td>\n",
              "      <td>37.85</td>\n",
              "      <td>52.0</td>\n",
              "      <td>2202.0</td>\n",
              "      <td>434.0</td>\n",
              "      <td>910.0</td>\n",
              "      <td>402.0</td>\n",
              "      <td>3.2031</td>\n",
              "      <td>281500.0</td>\n",
              "      <td>NEAR BAY</td>\n",
              "      <td>-122222.15</td>\n",
              "    </tr>\n",
              "    <tr>\n",
              "      <th>11</th>\n",
              "      <td>11</td>\n",
              "      <td>-122.26</td>\n",
              "      <td>37.85</td>\n",
              "      <td>52.0</td>\n",
              "      <td>3503.0</td>\n",
              "      <td>752.0</td>\n",
              "      <td>1504.0</td>\n",
              "      <td>734.0</td>\n",
              "      <td>3.2705</td>\n",
              "      <td>241800.0</td>\n",
              "      <td>NEAR BAY</td>\n",
              "      <td>-122222.15</td>\n",
              "    </tr>\n",
              "    <tr>\n",
              "      <th>12</th>\n",
              "      <td>12</td>\n",
              "      <td>-122.26</td>\n",
              "      <td>37.85</td>\n",
              "      <td>52.0</td>\n",
              "      <td>2491.0</td>\n",
              "      <td>474.0</td>\n",
              "      <td>1098.0</td>\n",
              "      <td>468.0</td>\n",
              "      <td>3.0750</td>\n",
              "      <td>213500.0</td>\n",
              "      <td>NEAR BAY</td>\n",
              "      <td>-122222.15</td>\n",
              "    </tr>\n",
              "    <tr>\n",
              "      <th>13</th>\n",
              "      <td>13</td>\n",
              "      <td>-122.26</td>\n",
              "      <td>37.84</td>\n",
              "      <td>52.0</td>\n",
              "      <td>696.0</td>\n",
              "      <td>191.0</td>\n",
              "      <td>345.0</td>\n",
              "      <td>174.0</td>\n",
              "      <td>2.6736</td>\n",
              "      <td>191300.0</td>\n",
              "      <td>NEAR BAY</td>\n",
              "      <td>-122222.16</td>\n",
              "    </tr>\n",
              "  </tbody>\n",
              "</table>\n",
              "</div>"
            ],
            "text/plain": [
              "    index  longitude  latitude  ...  median_house_value  ocean_proximity         id\n",
              "8       8    -122.26     37.84  ...            226700.0         NEAR BAY -122222.16\n",
              "10     10    -122.26     37.85  ...            281500.0         NEAR BAY -122222.15\n",
              "11     11    -122.26     37.85  ...            241800.0         NEAR BAY -122222.15\n",
              "12     12    -122.26     37.85  ...            213500.0         NEAR BAY -122222.15\n",
              "13     13    -122.26     37.84  ...            191300.0         NEAR BAY -122222.16\n",
              "\n",
              "[5 rows x 12 columns]"
            ]
          },
          "metadata": {
            "tags": []
          },
          "execution_count": 249
        }
      ]
    },
    {
      "cell_type": "code",
      "metadata": {
        "id": "V0SpdQr9Af-N"
      },
      "source": [
        "from sklearn.model_selection import train_test_split\n",
        "\n",
        "train_set, test_set = train_test_split(housing, test_size=0.2, random_state=42)"
      ],
      "execution_count": 250,
      "outputs": []
    },
    {
      "cell_type": "code",
      "metadata": {
        "id": "rWLAUCihAmvT",
        "outputId": "e5d7422d-ba1b-4441-d475-b5cf63b2d566",
        "colab": {
          "base_uri": "https://localhost:8080/",
          "height": 204
        }
      },
      "source": [
        "test_set.head()"
      ],
      "execution_count": 251,
      "outputs": [
        {
          "output_type": "execute_result",
          "data": {
            "text/html": [
              "<div>\n",
              "<style scoped>\n",
              "    .dataframe tbody tr th:only-of-type {\n",
              "        vertical-align: middle;\n",
              "    }\n",
              "\n",
              "    .dataframe tbody tr th {\n",
              "        vertical-align: top;\n",
              "    }\n",
              "\n",
              "    .dataframe thead th {\n",
              "        text-align: right;\n",
              "    }\n",
              "</style>\n",
              "<table border=\"1\" class=\"dataframe\">\n",
              "  <thead>\n",
              "    <tr style=\"text-align: right;\">\n",
              "      <th></th>\n",
              "      <th>longitude</th>\n",
              "      <th>latitude</th>\n",
              "      <th>housing_median_age</th>\n",
              "      <th>total_rooms</th>\n",
              "      <th>total_bedrooms</th>\n",
              "      <th>population</th>\n",
              "      <th>households</th>\n",
              "      <th>median_income</th>\n",
              "      <th>median_house_value</th>\n",
              "      <th>ocean_proximity</th>\n",
              "    </tr>\n",
              "  </thead>\n",
              "  <tbody>\n",
              "    <tr>\n",
              "      <th>20046</th>\n",
              "      <td>-119.01</td>\n",
              "      <td>36.06</td>\n",
              "      <td>25.0</td>\n",
              "      <td>1505.0</td>\n",
              "      <td>NaN</td>\n",
              "      <td>1392.0</td>\n",
              "      <td>359.0</td>\n",
              "      <td>1.6812</td>\n",
              "      <td>47700.0</td>\n",
              "      <td>INLAND</td>\n",
              "    </tr>\n",
              "    <tr>\n",
              "      <th>3024</th>\n",
              "      <td>-119.46</td>\n",
              "      <td>35.14</td>\n",
              "      <td>30.0</td>\n",
              "      <td>2943.0</td>\n",
              "      <td>NaN</td>\n",
              "      <td>1565.0</td>\n",
              "      <td>584.0</td>\n",
              "      <td>2.5313</td>\n",
              "      <td>45800.0</td>\n",
              "      <td>INLAND</td>\n",
              "    </tr>\n",
              "    <tr>\n",
              "      <th>15663</th>\n",
              "      <td>-122.44</td>\n",
              "      <td>37.80</td>\n",
              "      <td>52.0</td>\n",
              "      <td>3830.0</td>\n",
              "      <td>NaN</td>\n",
              "      <td>1310.0</td>\n",
              "      <td>963.0</td>\n",
              "      <td>3.4801</td>\n",
              "      <td>500001.0</td>\n",
              "      <td>NEAR BAY</td>\n",
              "    </tr>\n",
              "    <tr>\n",
              "      <th>20484</th>\n",
              "      <td>-118.72</td>\n",
              "      <td>34.28</td>\n",
              "      <td>17.0</td>\n",
              "      <td>3051.0</td>\n",
              "      <td>NaN</td>\n",
              "      <td>1705.0</td>\n",
              "      <td>495.0</td>\n",
              "      <td>5.7376</td>\n",
              "      <td>218600.0</td>\n",
              "      <td>&lt;1H OCEAN</td>\n",
              "    </tr>\n",
              "    <tr>\n",
              "      <th>9814</th>\n",
              "      <td>-121.93</td>\n",
              "      <td>36.62</td>\n",
              "      <td>34.0</td>\n",
              "      <td>2351.0</td>\n",
              "      <td>NaN</td>\n",
              "      <td>1063.0</td>\n",
              "      <td>428.0</td>\n",
              "      <td>3.7250</td>\n",
              "      <td>278000.0</td>\n",
              "      <td>NEAR OCEAN</td>\n",
              "    </tr>\n",
              "  </tbody>\n",
              "</table>\n",
              "</div>"
            ],
            "text/plain": [
              "       longitude  latitude  ...  median_house_value  ocean_proximity\n",
              "20046    -119.01     36.06  ...             47700.0           INLAND\n",
              "3024     -119.46     35.14  ...             45800.0           INLAND\n",
              "15663    -122.44     37.80  ...            500001.0         NEAR BAY\n",
              "20484    -118.72     34.28  ...            218600.0        <1H OCEAN\n",
              "9814     -121.93     36.62  ...            278000.0       NEAR OCEAN\n",
              "\n",
              "[5 rows x 10 columns]"
            ]
          },
          "metadata": {
            "tags": []
          },
          "execution_count": 251
        }
      ]
    },
    {
      "cell_type": "code",
      "metadata": {
        "id": "kYk3AielApNl",
        "outputId": "a76b4f6c-6a6d-4460-883b-77774ac20aa0",
        "colab": {
          "base_uri": "https://localhost:8080/",
          "height": 285
        }
      },
      "source": [
        "housing[\"median_income\"].hist()"
      ],
      "execution_count": 252,
      "outputs": [
        {
          "output_type": "execute_result",
          "data": {
            "text/plain": [
              "<matplotlib.axes._subplots.AxesSubplot at 0x7efd6d4c1d10>"
            ]
          },
          "metadata": {
            "tags": []
          },
          "execution_count": 252
        },
        {
          "output_type": "display_data",
          "data": {
            "image/png": "[encoded data removed]",
            "text/plain": [
              "<Figure size 432x288 with 1 Axes>"
            ]
          },
          "metadata": {
            "tags": [],
            "needs_background": "light"
          }
        }
      ]
    },
    {
      "cell_type": "code",
      "metadata": {
        "id": "-R1H27SICftN"
      },
      "source": [
        "housing[\"income_cat\"] = pd.cut(housing[\"median_income\"],\n",
        "                               bins=[0., 1.5, 3.0, 4.5, 6., np.inf],\n",
        "                               labels=[1, 2, 3, 4, 5])"
      ],
      "execution_count": 253,
      "outputs": []
    },
    {
      "cell_type": "code",
      "metadata": {
        "id": "FXPlaRBrDCHo",
        "outputId": "aac905da-d712-40a6-bd6c-b7cff481d764",
        "colab": {
          "base_uri": "https://localhost:8080/"
        }
      },
      "source": [
        "housing[\"income_cat\"].value_counts()"
      ],
      "execution_count": 254,
      "outputs": [
        {
          "output_type": "execute_result",
          "data": {
            "text/plain": [
              "3    7236\n",
              "2    6581\n",
              "4    3639\n",
              "5    2362\n",
              "1     822\n",
              "Name: income_cat, dtype: int64"
            ]
          },
          "metadata": {
            "tags": []
          },
          "execution_count": 254
        }
      ]
    },
    {
      "cell_type": "code",
      "metadata": {
        "id": "64Do58CVn2NE"
      },
      "source": [
        "housing_with_id[\"id\"] = housing[\"longitude\"] = 1000 + housing[\"latitude\"]\n",
        "train_set,test_set = split_train_test_by_id(housing_with_id, 0.2,\"id\")"
      ],
      "execution_count": 255,
      "outputs": []
    },
    {
      "cell_type": "code",
      "metadata": {
        "id": "nWmyvjJMoTGn",
        "outputId": "19639e2b-a7fb-43ce-e713-c8a606e045f5",
        "colab": {
          "base_uri": "https://localhost:8080/",
          "height": 285
        }
      },
      "source": [
        "housing[\"income_cat\"].hist()"
      ],
      "execution_count": 256,
      "outputs": [
        {
          "output_type": "execute_result",
          "data": {
            "text/plain": [
              "<matplotlib.axes._subplots.AxesSubplot at 0x7efd6a6fc250>"
            ]
          },
          "metadata": {
            "tags": []
          },
          "execution_count": 256
        },
        {
          "output_type": "display_data",
          "data": {
            "image/png": "[encoded data removed]",
            "text/plain": [
              "<Figure size 432x288 with 1 Axes>"
            ]
          },
          "metadata": {
            "tags": [],
            "needs_background": "light"
          }
        }
      ]
    },
    {
      "cell_type": "code",
      "metadata": {
        "id": "h4qFR-zAoo0-"
      },
      "source": [
        "from sklearn.model_selection import StratifiedShuffleSplit\n",
        "\n",
        "split = StratifiedShuffleSplit(n_splits=1, test_size=0.2, random_state=42)\n",
        "for train_index, test_index in split.split(housing, housing[\"income_cat\"]):\n",
        "    strat_train_set = housing.loc[train_index]\n",
        "    strat_test_set = housing.loc[test_index]"
      ],
      "execution_count": 257,
      "outputs": []
    },
    {
      "cell_type": "code",
      "metadata": {
        "id": "2w5lmHB6o2LY",
        "outputId": "e280fe1e-a144-44cd-8055-0f7e7822f84f",
        "colab": {
          "base_uri": "https://localhost:8080/"
        }
      },
      "source": [
        "strat_test_set[\"income_cat\"].value_counts() / len(strat_test_set)"
      ],
      "execution_count": 258,
      "outputs": [
        {
          "output_type": "execute_result",
          "data": {
            "text/plain": [
              "3    0.350533\n",
              "2    0.318798\n",
              "4    0.176357\n",
              "5    0.114583\n",
              "1    0.039729\n",
              "Name: income_cat, dtype: float64"
            ]
          },
          "metadata": {
            "tags": []
          },
          "execution_count": 258
        }
      ]
    },
    {
      "cell_type": "code",
      "metadata": {
        "id": "-tJQSUOmo_g6",
        "outputId": "6a2a4386-288e-4e4a-e79a-6dd524aacde5",
        "colab": {
          "base_uri": "https://localhost:8080/"
        }
      },
      "source": [
        "housing[\"income_cat\"].value_counts() / len(housing)"
      ],
      "execution_count": 259,
      "outputs": [
        {
          "output_type": "execute_result",
          "data": {
            "text/plain": [
              "3    0.350581\n",
              "2    0.318847\n",
              "4    0.176308\n",
              "5    0.114438\n",
              "1    0.039826\n",
              "Name: income_cat, dtype: float64"
            ]
          },
          "metadata": {
            "tags": []
          },
          "execution_count": 259
        }
      ]
    },
    {
      "cell_type": "code",
      "metadata": {
        "id": "poS8HvFEp4Om"
      },
      "source": [
        "def income_cat_proportions(data):\n",
        "    return data[\"income_cat\"].value_counts() / len(data)\n",
        "\n",
        "train_set, test_set = train_test_split(housing, test_size=0.2, random_state=42)\n",
        "\n",
        "compare_props = pd.DataFrame({\n",
        "    \"Overall\": income_cat_proportions(housing),\n",
        "    \"Stratified\": income_cat_proportions(strat_test_set),\n",
        "    \"Random\": income_cat_proportions(test_set),\n",
        "}).sort_index()\n",
        "compare_props[\"Rand. %error\"] = 100 * compare_props[\"Random\"] / compare_props[\"Overall\"] - 100\n",
        "compare_props[\"Strat. %error\"] = 100 * compare_props[\"Stratified\"] / compare_props[\"Overall\"] - 100"
      ],
      "execution_count": 260,
      "outputs": []
    },
    {
      "cell_type": "code",
      "metadata": {
        "id": "7hbB2IRUqA94",
        "outputId": "6c60061a-3c30-4e19-8a89-83a196db147b",
        "colab": {
          "base_uri": "https://localhost:8080/",
          "height": 204
        }
      },
      "source": [
        "compare_props"
      ],
      "execution_count": 261,
      "outputs": [
        {
          "output_type": "execute_result",
          "data": {
            "text/html": [
              "<div>\n",
              "<style scoped>\n",
              "    .dataframe tbody tr th:only-of-type {\n",
              "        vertical-align: middle;\n",
              "    }\n",
              "\n",
              "    .dataframe tbody tr th {\n",
              "        vertical-align: top;\n",
              "    }\n",
              "\n",
              "    .dataframe thead th {\n",
              "        text-align: right;\n",
              "    }\n",
              "</style>\n",
              "<table border=\"1\" class=\"dataframe\">\n",
              "  <thead>\n",
              "    <tr style=\"text-align: right;\">\n",
              "      <th></th>\n",
              "      <th>Overall</th>\n",
              "      <th>Stratified</th>\n",
              "      <th>Random</th>\n",
              "      <th>Rand. %error</th>\n",
              "      <th>Strat. %error</th>\n",
              "    </tr>\n",
              "  </thead>\n",
              "  <tbody>\n",
              "    <tr>\n",
              "      <th>1</th>\n",
              "      <td>0.039826</td>\n",
              "      <td>0.039729</td>\n",
              "      <td>0.040213</td>\n",
              "      <td>0.973236</td>\n",
              "      <td>-0.243309</td>\n",
              "    </tr>\n",
              "    <tr>\n",
              "      <th>2</th>\n",
              "      <td>0.318847</td>\n",
              "      <td>0.318798</td>\n",
              "      <td>0.324370</td>\n",
              "      <td>1.732260</td>\n",
              "      <td>-0.015195</td>\n",
              "    </tr>\n",
              "    <tr>\n",
              "      <th>3</th>\n",
              "      <td>0.350581</td>\n",
              "      <td>0.350533</td>\n",
              "      <td>0.358527</td>\n",
              "      <td>2.266446</td>\n",
              "      <td>-0.013820</td>\n",
              "    </tr>\n",
              "    <tr>\n",
              "      <th>4</th>\n",
              "      <td>0.176308</td>\n",
              "      <td>0.176357</td>\n",
              "      <td>0.167393</td>\n",
              "      <td>-5.056334</td>\n",
              "      <td>0.027480</td>\n",
              "    </tr>\n",
              "    <tr>\n",
              "      <th>5</th>\n",
              "      <td>0.114438</td>\n",
              "      <td>0.114583</td>\n",
              "      <td>0.109496</td>\n",
              "      <td>-4.318374</td>\n",
              "      <td>0.127011</td>\n",
              "    </tr>\n",
              "  </tbody>\n",
              "</table>\n",
              "</div>"
            ],
            "text/plain": [
              "    Overall  Stratified    Random  Rand. %error  Strat. %error\n",
              "1  0.039826    0.039729  0.040213      0.973236      -0.243309\n",
              "2  0.318847    0.318798  0.324370      1.732260      -0.015195\n",
              "3  0.350581    0.350533  0.358527      2.266446      -0.013820\n",
              "4  0.176308    0.176357  0.167393     -5.056334       0.027480\n",
              "5  0.114438    0.114583  0.109496     -4.318374       0.127011"
            ]
          },
          "metadata": {
            "tags": []
          },
          "execution_count": 261
        }
      ]
    },
    {
      "cell_type": "code",
      "metadata": {
        "id": "MibsMtcjqZw3"
      },
      "source": [
        "for set_ in (strat_train_set, strat_test_set):\n",
        "    set_.drop(\"income_cat\", axis=1, inplace=True)"
      ],
      "execution_count": 262,
      "outputs": []
    },
    {
      "cell_type": "code",
      "metadata": {
        "id": "LlI7jJvUqseG"
      },
      "source": [
        "#Let's visualize our data"
      ],
      "execution_count": 263,
      "outputs": []
    },
    {
      "cell_type": "code",
      "metadata": {
        "id": "azYniQ32rM-E"
      },
      "source": [
        "housing = strat_train_set.copy()"
      ],
      "execution_count": 264,
      "outputs": []
    },
    {
      "cell_type": "code",
      "metadata": {
        "id": "5L8IatjrrWpa",
        "outputId": "bf8291dd-126d-400a-e9f3-dc8f7320bff9",
        "colab": {
          "base_uri": "https://localhost:8080/",
          "height": 314
        }
      },
      "source": [
        "housing.plot(kind=\"scatter\", x=\"longitude\", y=\"latitude\")\n",
        "save_fig(\"bad_visualization_plot\")"
      ],
      "execution_count": 265,
      "outputs": [
        {
          "output_type": "stream",
          "text": [
            "Saving image.. bad_visualization_plot\n"
          ],
          "name": "stdout"
        },
        {
          "output_type": "display_data",
          "data": {
            "image/png": "[encoded data removed]",
            "text/plain": [
              "<Figure size 432x288 with 1 Axes>"
            ]
          },
          "metadata": {
            "tags": [],
            "needs_background": "light"
          }
        }
      ]
    },
    {
      "cell_type": "code",
      "metadata": {
        "id": "Tfn-iJw6tBmO"
      },
      "source": [
        "#Not the best but it's a thing"
      ],
      "execution_count": 266,
      "outputs": []
    },
    {
      "cell_type": "code",
      "metadata": {
        "id": "bCtcKAVNtGSN",
        "outputId": "d0f3d0d7-4862-422c-f1dc-b9783da74095",
        "colab": {
          "base_uri": "https://localhost:8080/",
          "height": 314
        }
      },
      "source": [
        "housing.plot(kind=\"scatter\", x=\"longitude\", y=\"latitude\", alpha=0.1)\n",
        "save_fig(\"better_visualization_plot\")"
      ],
      "execution_count": 267,
      "outputs": [
        {
          "output_type": "stream",
          "text": [
            "Saving image.. better_visualization_plot\n"
          ],
          "name": "stdout"
        },
        {
          "output_type": "display_data",
          "data": {
            "image/png": "[encoded data removed]",
            "text/plain": [
              "<Figure size 432x288 with 1 Axes>"
            ]
          },
          "metadata": {
            "tags": [],
            "needs_background": "light"
          }
        }
      ]
    },
    {
      "cell_type": "code",
      "metadata": {
        "id": "JgsIlQMgtL7v",
        "outputId": "2ea8c95a-aae5-41d6-dee0-8266f7bdb996",
        "colab": {
          "base_uri": "https://localhost:8080/",
          "height": 525
        }
      },
      "source": [
        "housing.plot(kind =\"scatter\", x=\"longitude\", y=\"latitude\", alpha = 0.4,\n",
        "             s=housing[\"population\"]/100, label = \"population\", figsize=(19,7),\n",
        "             c=\"median_house_value\",cmap=plt.get_cmap(\"jet\"), colorbar=True,\n",
        "             sharex=False)\n",
        "plt.legend()\n",
        "save_fig(\"housing_prices_scatterplot\")"
      ],
      "execution_count": 268,
      "outputs": [
        {
          "output_type": "stream",
          "text": [
            "Saving image.. housing_prices_scatterplot\n"
          ],
          "name": "stdout"
        },
        {
          "output_type": "display_data",
          "data": {
            "image/png": "[encoded data removed]",
            "text/plain": [
              "<Figure size 1368x504 with 2 Axes>"
            ]
          },
          "metadata": {
            "tags": [],
            "needs_background": "light"
          }
        }
      ]
    },
    {
      "cell_type": "code",
      "metadata": {
        "id": "U3K-47rQte1z",
        "outputId": "e6eb15d2-7003-4c3d-cc4b-f499c5d1cebd",
        "colab": {
          "base_uri": "https://localhost:8080/"
        }
      },
      "source": [
        "# Download the California image\n",
        "images_path = os.path.join(PROJECT_ROOT_DIR, \"images\", \"end_to_end_project\")\n",
        "os.makedirs(images_path, exist_ok=True)\n",
        "DOWNLOAD_ROOT = \"https://raw.githubusercontent.com/ageron/handson-ml2/master/\"\n",
        "filename = \"california.png\"\n",
        "print(\"Downloading\", filename)\n",
        "url = DOWNLOAD_ROOT + \"images/end_to_end_project/\" + filename\n",
        "urllib.request.urlretrieve(url, os.path.join(images_path, filename))"
      ],
      "execution_count": 269,
      "outputs": [
        {
          "output_type": "stream",
          "text": [
            "Downloading california.png\n"
          ],
          "name": "stdout"
        },
        {
          "output_type": "execute_result",
          "data": {
            "text/plain": [
              "('./images/end_to_end_project/california.png',\n",
              " <http.client.HTTPMessage at 0x7efd6dd131d0>)"
            ]
          },
          "metadata": {
            "tags": []
          },
          "execution_count": 269
        }
      ]
    },
    {
      "cell_type": "code",
      "metadata": {
        "id": "u_txRJtgtt_K",
        "outputId": "ecfa66a2-20d2-4ca5-eff0-69b2da4e4f1f",
        "colab": {
          "base_uri": "https://localhost:8080/",
          "height": 530
        }
      },
      "source": [
        "import matplotlib.image as mpimg\n",
        "california_img=mpimg.imread(os.path.join(images_path, filename))\n",
        "ax = housing.plot(kind=\"scatter\", x=\"longitude\", y=\"latitude\", figsize=(10,7),\n",
        "                  s=housing['population']/100, label=\"Population\",\n",
        "                  c=\"median_house_value\", cmap=plt.get_cmap(\"jet\"),\n",
        "                  colorbar=False, alpha=0.4)\n",
        "plt.imshow(california_img, extent=[-124.55, -113.80, 32.45, 42.05], alpha=0.5,\n",
        "           cmap=plt.get_cmap(\"jet\"))\n",
        "plt.ylabel(\"Latitude\", fontsize=14)\n",
        "plt.xlabel(\"Longitude\", fontsize=14)\n",
        "\n",
        "prices = housing[\"median_house_value\"]\n",
        "tick_values = np.linspace(prices.min(), prices.max(), 11)\n",
        "cbar = plt.colorbar(ticks=tick_values/prices.max())\n",
        "cbar.ax.set_yticklabels([\"$%dk\"%(round(v/1000)) for v in tick_values], fontsize=14)\n",
        "cbar.set_label('Median House Value', fontsize=16)\n",
        "\n",
        "plt.legend(fontsize=16)\n",
        "save_fig(\"california_housing_prices_plot\")\n",
        "plt.show()"
      ],
      "execution_count": 270,
      "outputs": [
        {
          "output_type": "stream",
          "text": [
            "Saving image.. california_housing_prices_plot\n"
          ],
          "name": "stdout"
        },
        {
          "output_type": "display_data",
          "data": {
            "image/png": "[encoded data removed]",
            "text/plain": [
              "<Figure size 720x504 with 2 Axes>"
            ]
          },
          "metadata": {
            "tags": [],
            "needs_background": "light"
          }
        }
      ]
    },
    {
      "cell_type": "code",
      "metadata": {
        "id": "9Co-aYqMt6pD"
      },
      "source": [
        "corr_matrix= housing.corr()"
      ],
      "execution_count": 271,
      "outputs": []
    },
    {
      "cell_type": "code",
      "metadata": {
        "id": "laoW_GxJvoy2",
        "outputId": "0ffec349-8bc1-493b-d3bf-5660ae812e9d",
        "colab": {
          "base_uri": "https://localhost:8080/"
        }
      },
      "source": [
        "corr_matrix[\"median_house_value\"].sort_values(ascending=False)"
      ],
      "execution_count": 272,
      "outputs": [
        {
          "output_type": "execute_result",
          "data": {
            "text/plain": [
              "median_house_value    1.000000\n",
              "median_income         0.687160\n",
              "total_rooms           0.135097\n",
              "housing_median_age    0.114110\n",
              "households            0.064506\n",
              "total_bedrooms        0.047689\n",
              "population           -0.026920\n",
              "longitude            -0.142724\n",
              "latitude             -0.142724\n",
              "Name: median_house_value, dtype: float64"
            ]
          },
          "metadata": {
            "tags": []
          },
          "execution_count": 272
        }
      ]
    },
    {
      "cell_type": "code",
      "metadata": {
        "id": "Im7BlEo10lcq",
        "outputId": "7af28423-03cd-4c94-ad4c-43abbb82afd7",
        "colab": {
          "base_uri": "https://localhost:8080/",
          "height": 609
        }
      },
      "source": [
        "from pandas.plotting import scatter_matrix\n",
        "attributes=[\"median_house_value\", \"median_income\",\"total_rooms\",\n",
        "            \"housing_median_age\"]\n",
        "scatter_matrix(housing[attributes], figsize=(12,8))\n",
        "save_fig(\"scatter_matrix_plot\")"
      ],
      "execution_count": 273,
      "outputs": [
        {
          "output_type": "stream",
          "text": [
            "Saving image.. scatter_matrix_plot\n"
          ],
          "name": "stdout"
        },
        {
          "output_type": "display_data",
          "data": {
            "image/png": "[encoded data removed]",
            "text/plain": [
              "<Figure size 864x576 with 16 Axes>"
            ]
          },
          "metadata": {
            "tags": [],
            "needs_background": "light"
          }
        }
      ]
    },
    {
      "cell_type": "code",
      "metadata": {
        "id": "p-_W2iwU0_A7",
        "outputId": "13d4aa64-5ed3-4304-8236-720ff3d3b261",
        "colab": {
          "base_uri": "https://localhost:8080/",
          "height": 314
        }
      },
      "source": [
        "housing.plot(kind=\"scatter\", x=\"median_income\", y=\"median_house_value\",\n",
        "             alpha=0.1)\n",
        "plt.axis([0, 16, 0, 550000])\n",
        "save_fig(\"income_vs_house_value_scatterplot\")"
      ],
      "execution_count": 274,
      "outputs": [
        {
          "output_type": "stream",
          "text": [
            "Saving image.. income_vs_house_value_scatterplot\n"
          ],
          "name": "stdout"
        },
        {
          "output_type": "display_data",
          "data": {
            "image/png": "[encoded data removed]",
            "text/plain": [
              "<Figure size 432x288 with 1 Axes>"
            ]
          },
          "metadata": {
            "tags": [],
            "needs_background": "light"
          }
        }
      ]
    },
    {
      "cell_type": "code",
      "metadata": {
        "id": "91ZTDAbA1hWM"
      },
      "source": [
        "housing[\"rooms_per_household\"] = housing[\"total_rooms\"]/housing[\"households\"]\n",
        "housing[\"bedrooms_per_room\"] = housing[\"total_bedrooms\"]/housing[\"total_rooms\"]\n",
        "housing[\"population_per_household\"]=housing[\"population\"]/housing[\"households\"]"
      ],
      "execution_count": 275,
      "outputs": []
    },
    {
      "cell_type": "code",
      "metadata": {
        "id": "g_IVf9-t1uNj",
        "outputId": "7c25c5b5-be5b-454b-e294-5a7c9555a0f1",
        "colab": {
          "base_uri": "https://localhost:8080/"
        }
      },
      "source": [
        "corr_matrix = housing.corr()\n",
        "corr_matrix[\"median_house_value\"].sort_values(ascending=False)"
      ],
      "execution_count": 276,
      "outputs": [
        {
          "output_type": "execute_result",
          "data": {
            "text/plain": [
              "median_house_value          1.000000\n",
              "median_income               0.687160\n",
              "rooms_per_household         0.146285\n",
              "total_rooms                 0.135097\n",
              "housing_median_age          0.114110\n",
              "households                  0.064506\n",
              "total_bedrooms              0.047689\n",
              "population_per_household   -0.021985\n",
              "population                 -0.026920\n",
              "longitude                  -0.142724\n",
              "latitude                   -0.142724\n",
              "bedrooms_per_room          -0.259984\n",
              "Name: median_house_value, dtype: float64"
            ]
          },
          "metadata": {
            "tags": []
          },
          "execution_count": 276
        }
      ]
    },
    {
      "cell_type": "code",
      "metadata": {
        "id": "XneAAxgU1vyH",
        "outputId": "5927734d-fad4-47df-e970-dc7338a8345a",
        "colab": {
          "base_uri": "https://localhost:8080/",
          "height": 286
        }
      },
      "source": [
        "\"\"\"The new bedrooms_per_room attribute is much more correlated with\n",
        "the median house value than the total number of rooms or bedrooms. Apparently\n",
        "houses with a lower bedroom/room ratio tend to be more expensive. The number of\n",
        "rooms per household is also more informative than the total number of rooms in a\n",
        "district—obviously the larger the houses, the more expensive they are.\"\"\"\n",
        "\n",
        "housing.plot(kind=\"scatter\", x=\"rooms_per_household\", y=\"median_house_value\",\n",
        "             alpha=0.2)\n",
        "plt.axis([0, 5, 0, 520000])\n",
        "plt.show()"
      ],
      "execution_count": 277,
      "outputs": [
        {
          "output_type": "display_data",
          "data": {
            "image/png": "[encoded data removed]",
            "text/plain": [
              "<Figure size 432x288 with 1 Axes>"
            ]
          },
          "metadata": {
            "tags": [],
            "needs_background": "light"
          }
        }
      ]
    },
    {
      "cell_type": "markdown",
      "metadata": {
        "id": "oypiHV4o4WVZ"
      },
      "source": [
        "At this point we have to decide what to do with cleaning operations, are we going to get rid of it, or are we gonna set some values to na's"
      ]
    },
    {
      "cell_type": "code",
      "metadata": {
        "id": "ArIV4Ucp4V0C"
      },
      "source": [
        ""
      ],
      "execution_count": 277,
      "outputs": []
    },
    {
      "cell_type": "code",
      "metadata": {
        "id": "U2WSupMF2DU_"
      },
      "source": [
        "housing = strat_train_set.drop(\"median_house_value\", axis=1) # drop labels for training set\n",
        "housing_labels = strat_train_set[\"median_house_value\"].copy()"
      ],
      "execution_count": 278,
      "outputs": []
    },
    {
      "cell_type": "code",
      "metadata": {
        "id": "2YOl2u6-2gEa",
        "outputId": "067ee535-1388-44a6-dc77-646596843c53",
        "colab": {
          "base_uri": "https://localhost:8080/",
          "height": 204
        }
      },
      "source": [
        "sample_incomplete_rows = housing[housing.isnull().any(axis=1)].head()\n",
        "sample_incomplete_rows"
      ],
      "execution_count": 279,
      "outputs": [
        {
          "output_type": "execute_result",
          "data": {
            "text/html": [
              "<div>\n",
              "<style scoped>\n",
              "    .dataframe tbody tr th:only-of-type {\n",
              "        vertical-align: middle;\n",
              "    }\n",
              "\n",
              "    .dataframe tbody tr th {\n",
              "        vertical-align: top;\n",
              "    }\n",
              "\n",
              "    .dataframe thead th {\n",
              "        text-align: right;\n",
              "    }\n",
              "</style>\n",
              "<table border=\"1\" class=\"dataframe\">\n",
              "  <thead>\n",
              "    <tr style=\"text-align: right;\">\n",
              "      <th></th>\n",
              "      <th>longitude</th>\n",
              "      <th>latitude</th>\n",
              "      <th>housing_median_age</th>\n",
              "      <th>total_rooms</th>\n",
              "      <th>total_bedrooms</th>\n",
              "      <th>population</th>\n",
              "      <th>households</th>\n",
              "      <th>median_income</th>\n",
              "      <th>ocean_proximity</th>\n",
              "    </tr>\n",
              "  </thead>\n",
              "  <tbody>\n",
              "    <tr>\n",
              "      <th>4629</th>\n",
              "      <td>1034.07</td>\n",
              "      <td>34.07</td>\n",
              "      <td>18.0</td>\n",
              "      <td>3759.0</td>\n",
              "      <td>NaN</td>\n",
              "      <td>3296.0</td>\n",
              "      <td>1462.0</td>\n",
              "      <td>2.2708</td>\n",
              "      <td>&lt;1H OCEAN</td>\n",
              "    </tr>\n",
              "    <tr>\n",
              "      <th>6068</th>\n",
              "      <td>1034.01</td>\n",
              "      <td>34.01</td>\n",
              "      <td>16.0</td>\n",
              "      <td>4632.0</td>\n",
              "      <td>NaN</td>\n",
              "      <td>3038.0</td>\n",
              "      <td>727.0</td>\n",
              "      <td>5.1762</td>\n",
              "      <td>&lt;1H OCEAN</td>\n",
              "    </tr>\n",
              "    <tr>\n",
              "      <th>17923</th>\n",
              "      <td>1037.35</td>\n",
              "      <td>37.35</td>\n",
              "      <td>30.0</td>\n",
              "      <td>1955.0</td>\n",
              "      <td>NaN</td>\n",
              "      <td>999.0</td>\n",
              "      <td>386.0</td>\n",
              "      <td>4.6328</td>\n",
              "      <td>&lt;1H OCEAN</td>\n",
              "    </tr>\n",
              "    <tr>\n",
              "      <th>13656</th>\n",
              "      <td>1034.05</td>\n",
              "      <td>34.05</td>\n",
              "      <td>6.0</td>\n",
              "      <td>2155.0</td>\n",
              "      <td>NaN</td>\n",
              "      <td>1039.0</td>\n",
              "      <td>391.0</td>\n",
              "      <td>1.6675</td>\n",
              "      <td>INLAND</td>\n",
              "    </tr>\n",
              "    <tr>\n",
              "      <th>19252</th>\n",
              "      <td>1038.48</td>\n",
              "      <td>38.48</td>\n",
              "      <td>7.0</td>\n",
              "      <td>6837.0</td>\n",
              "      <td>NaN</td>\n",
              "      <td>3468.0</td>\n",
              "      <td>1405.0</td>\n",
              "      <td>3.1662</td>\n",
              "      <td>&lt;1H OCEAN</td>\n",
              "    </tr>\n",
              "  </tbody>\n",
              "</table>\n",
              "</div>"
            ],
            "text/plain": [
              "       longitude  latitude  ...  median_income  ocean_proximity\n",
              "4629     1034.07     34.07  ...         2.2708        <1H OCEAN\n",
              "6068     1034.01     34.01  ...         5.1762        <1H OCEAN\n",
              "17923    1037.35     37.35  ...         4.6328        <1H OCEAN\n",
              "13656    1034.05     34.05  ...         1.6675           INLAND\n",
              "19252    1038.48     38.48  ...         3.1662        <1H OCEAN\n",
              "\n",
              "[5 rows x 9 columns]"
            ]
          },
          "metadata": {
            "tags": []
          },
          "execution_count": 279
        }
      ]
    },
    {
      "cell_type": "code",
      "metadata": {
        "id": "8MV3Oa3u2hst",
        "outputId": "842d87e1-0a03-46bf-fa82-becfc65c7ce8",
        "colab": {
          "base_uri": "https://localhost:8080/",
          "height": 49
        }
      },
      "source": [
        "sample_incomplete_rows.dropna(subset=[\"total_bedrooms\"])    # option 1"
      ],
      "execution_count": 280,
      "outputs": [
        {
          "output_type": "execute_result",
          "data": {
            "text/html": [
              "<div>\n",
              "<style scoped>\n",
              "    .dataframe tbody tr th:only-of-type {\n",
              "        vertical-align: middle;\n",
              "    }\n",
              "\n",
              "    .dataframe tbody tr th {\n",
              "        vertical-align: top;\n",
              "    }\n",
              "\n",
              "    .dataframe thead th {\n",
              "        text-align: right;\n",
              "    }\n",
              "</style>\n",
              "<table border=\"1\" class=\"dataframe\">\n",
              "  <thead>\n",
              "    <tr style=\"text-align: right;\">\n",
              "      <th></th>\n",
              "      <th>longitude</th>\n",
              "      <th>latitude</th>\n",
              "      <th>housing_median_age</th>\n",
              "      <th>total_rooms</th>\n",
              "      <th>total_bedrooms</th>\n",
              "      <th>population</th>\n",
              "      <th>households</th>\n",
              "      <th>median_income</th>\n",
              "      <th>ocean_proximity</th>\n",
              "    </tr>\n",
              "  </thead>\n",
              "  <tbody>\n",
              "  </tbody>\n",
              "</table>\n",
              "</div>"
            ],
            "text/plain": [
              "Empty DataFrame\n",
              "Columns: [longitude, latitude, housing_median_age, total_rooms, total_bedrooms, population, households, median_income, ocean_proximity]\n",
              "Index: []"
            ]
          },
          "metadata": {
            "tags": []
          },
          "execution_count": 280
        }
      ]
    },
    {
      "cell_type": "code",
      "metadata": {
        "id": "TJXufPUp2jqM",
        "outputId": "bdab2a1b-d064-46a4-a82f-0561906df391",
        "colab": {
          "base_uri": "https://localhost:8080/",
          "height": 204
        }
      },
      "source": [
        "sample_incomplete_rows.drop(\"total_bedrooms\", axis=1)"
      ],
      "execution_count": 281,
      "outputs": [
        {
          "output_type": "execute_result",
          "data": {
            "text/html": [
              "<div>\n",
              "<style scoped>\n",
              "    .dataframe tbody tr th:only-of-type {\n",
              "        vertical-align: middle;\n",
              "    }\n",
              "\n",
              "    .dataframe tbody tr th {\n",
              "        vertical-align: top;\n",
              "    }\n",
              "\n",
              "    .dataframe thead th {\n",
              "        text-align: right;\n",
              "    }\n",
              "</style>\n",
              "<table border=\"1\" class=\"dataframe\">\n",
              "  <thead>\n",
              "    <tr style=\"text-align: right;\">\n",
              "      <th></th>\n",
              "      <th>longitude</th>\n",
              "      <th>latitude</th>\n",
              "      <th>housing_median_age</th>\n",
              "      <th>total_rooms</th>\n",
              "      <th>population</th>\n",
              "      <th>households</th>\n",
              "      <th>median_income</th>\n",
              "      <th>ocean_proximity</th>\n",
              "    </tr>\n",
              "  </thead>\n",
              "  <tbody>\n",
              "    <tr>\n",
              "      <th>4629</th>\n",
              "      <td>1034.07</td>\n",
              "      <td>34.07</td>\n",
              "      <td>18.0</td>\n",
              "      <td>3759.0</td>\n",
              "      <td>3296.0</td>\n",
              "      <td>1462.0</td>\n",
              "      <td>2.2708</td>\n",
              "      <td>&lt;1H OCEAN</td>\n",
              "    </tr>\n",
              "    <tr>\n",
              "      <th>6068</th>\n",
              "      <td>1034.01</td>\n",
              "      <td>34.01</td>\n",
              "      <td>16.0</td>\n",
              "      <td>4632.0</td>\n",
              "      <td>3038.0</td>\n",
              "      <td>727.0</td>\n",
              "      <td>5.1762</td>\n",
              "      <td>&lt;1H OCEAN</td>\n",
              "    </tr>\n",
              "    <tr>\n",
              "      <th>17923</th>\n",
              "      <td>1037.35</td>\n",
              "      <td>37.35</td>\n",
              "      <td>30.0</td>\n",
              "      <td>1955.0</td>\n",
              "      <td>999.0</td>\n",
              "      <td>386.0</td>\n",
              "      <td>4.6328</td>\n",
              "      <td>&lt;1H OCEAN</td>\n",
              "    </tr>\n",
              "    <tr>\n",
              "      <th>13656</th>\n",
              "      <td>1034.05</td>\n",
              "      <td>34.05</td>\n",
              "      <td>6.0</td>\n",
              "      <td>2155.0</td>\n",
              "      <td>1039.0</td>\n",
              "      <td>391.0</td>\n",
              "      <td>1.6675</td>\n",
              "      <td>INLAND</td>\n",
              "    </tr>\n",
              "    <tr>\n",
              "      <th>19252</th>\n",
              "      <td>1038.48</td>\n",
              "      <td>38.48</td>\n",
              "      <td>7.0</td>\n",
              "      <td>6837.0</td>\n",
              "      <td>3468.0</td>\n",
              "      <td>1405.0</td>\n",
              "      <td>3.1662</td>\n",
              "      <td>&lt;1H OCEAN</td>\n",
              "    </tr>\n",
              "  </tbody>\n",
              "</table>\n",
              "</div>"
            ],
            "text/plain": [
              "       longitude  latitude  ...  median_income  ocean_proximity\n",
              "4629     1034.07     34.07  ...         2.2708        <1H OCEAN\n",
              "6068     1034.01     34.01  ...         5.1762        <1H OCEAN\n",
              "17923    1037.35     37.35  ...         4.6328        <1H OCEAN\n",
              "13656    1034.05     34.05  ...         1.6675           INLAND\n",
              "19252    1038.48     38.48  ...         3.1662        <1H OCEAN\n",
              "\n",
              "[5 rows x 8 columns]"
            ]
          },
          "metadata": {
            "tags": []
          },
          "execution_count": 281
        }
      ]
    },
    {
      "cell_type": "code",
      "metadata": {
        "id": "aPvM2t1k49TK"
      },
      "source": [
        "median=housing[\"total_bedrooms\"].median()\n",
        "sample_incomplete_rows[\"total_bedrooms\"].fillna(median, inplace=True)"
      ],
      "execution_count": 282,
      "outputs": []
    },
    {
      "cell_type": "code",
      "metadata": {
        "id": "jq1Pd_BT5JHs",
        "outputId": "65af0694-82e0-419d-e15c-c3eda910924d",
        "colab": {
          "base_uri": "https://localhost:8080/",
          "height": 204
        }
      },
      "source": [
        "sample_incomplete_rows"
      ],
      "execution_count": 283,
      "outputs": [
        {
          "output_type": "execute_result",
          "data": {
            "text/html": [
              "<div>\n",
              "<style scoped>\n",
              "    .dataframe tbody tr th:only-of-type {\n",
              "        vertical-align: middle;\n",
              "    }\n",
              "\n",
              "    .dataframe tbody tr th {\n",
              "        vertical-align: top;\n",
              "    }\n",
              "\n",
              "    .dataframe thead th {\n",
              "        text-align: right;\n",
              "    }\n",
              "</style>\n",
              "<table border=\"1\" class=\"dataframe\">\n",
              "  <thead>\n",
              "    <tr style=\"text-align: right;\">\n",
              "      <th></th>\n",
              "      <th>longitude</th>\n",
              "      <th>latitude</th>\n",
              "      <th>housing_median_age</th>\n",
              "      <th>total_rooms</th>\n",
              "      <th>total_bedrooms</th>\n",
              "      <th>population</th>\n",
              "      <th>households</th>\n",
              "      <th>median_income</th>\n",
              "      <th>ocean_proximity</th>\n",
              "    </tr>\n",
              "  </thead>\n",
              "  <tbody>\n",
              "    <tr>\n",
              "      <th>4629</th>\n",
              "      <td>1034.07</td>\n",
              "      <td>34.07</td>\n",
              "      <td>18.0</td>\n",
              "      <td>3759.0</td>\n",
              "      <td>433.0</td>\n",
              "      <td>3296.0</td>\n",
              "      <td>1462.0</td>\n",
              "      <td>2.2708</td>\n",
              "      <td>&lt;1H OCEAN</td>\n",
              "    </tr>\n",
              "    <tr>\n",
              "      <th>6068</th>\n",
              "      <td>1034.01</td>\n",
              "      <td>34.01</td>\n",
              "      <td>16.0</td>\n",
              "      <td>4632.0</td>\n",
              "      <td>433.0</td>\n",
              "      <td>3038.0</td>\n",
              "      <td>727.0</td>\n",
              "      <td>5.1762</td>\n",
              "      <td>&lt;1H OCEAN</td>\n",
              "    </tr>\n",
              "    <tr>\n",
              "      <th>17923</th>\n",
              "      <td>1037.35</td>\n",
              "      <td>37.35</td>\n",
              "      <td>30.0</td>\n",
              "      <td>1955.0</td>\n",
              "      <td>433.0</td>\n",
              "      <td>999.0</td>\n",
              "      <td>386.0</td>\n",
              "      <td>4.6328</td>\n",
              "      <td>&lt;1H OCEAN</td>\n",
              "    </tr>\n",
              "    <tr>\n",
              "      <th>13656</th>\n",
              "      <td>1034.05</td>\n",
              "      <td>34.05</td>\n",
              "      <td>6.0</td>\n",
              "      <td>2155.0</td>\n",
              "      <td>433.0</td>\n",
              "      <td>1039.0</td>\n",
              "      <td>391.0</td>\n",
              "      <td>1.6675</td>\n",
              "      <td>INLAND</td>\n",
              "    </tr>\n",
              "    <tr>\n",
              "      <th>19252</th>\n",
              "      <td>1038.48</td>\n",
              "      <td>38.48</td>\n",
              "      <td>7.0</td>\n",
              "      <td>6837.0</td>\n",
              "      <td>433.0</td>\n",
              "      <td>3468.0</td>\n",
              "      <td>1405.0</td>\n",
              "      <td>3.1662</td>\n",
              "      <td>&lt;1H OCEAN</td>\n",
              "    </tr>\n",
              "  </tbody>\n",
              "</table>\n",
              "</div>"
            ],
            "text/plain": [
              "       longitude  latitude  ...  median_income  ocean_proximity\n",
              "4629     1034.07     34.07  ...         2.2708        <1H OCEAN\n",
              "6068     1034.01     34.01  ...         5.1762        <1H OCEAN\n",
              "17923    1037.35     37.35  ...         4.6328        <1H OCEAN\n",
              "13656    1034.05     34.05  ...         1.6675           INLAND\n",
              "19252    1038.48     38.48  ...         3.1662        <1H OCEAN\n",
              "\n",
              "[5 rows x 9 columns]"
            ]
          },
          "metadata": {
            "tags": []
          },
          "execution_count": 283
        }
      ]
    },
    {
      "cell_type": "code",
      "metadata": {
        "id": "4YHeHGyW5Hrv"
      },
      "source": [
        "from sklearn.impute import SimpleImputer\n",
        "imputer=SimpleImputer(strategy=\"median\")\n"
      ],
      "execution_count": 284,
      "outputs": []
    },
    {
      "cell_type": "markdown",
      "metadata": {
        "id": "M2sJDmku5q60"
      },
      "source": [
        "At htis point we have to remove the text attribute because median can only be calculated on numeric"
      ]
    },
    {
      "cell_type": "code",
      "metadata": {
        "id": "OWhh8Efw5XcL"
      },
      "source": [
        "housing_num = housing.drop(\"ocean_proximity\",axis=1)\n",
        "#housing_num=housing.select_dtypes(include=[np.number])"
      ],
      "execution_count": 285,
      "outputs": []
    },
    {
      "cell_type": "code",
      "metadata": {
        "id": "L_qXs31B56kI",
        "outputId": "48438110-3906-412e-a160-84bc2074ac57",
        "colab": {
          "base_uri": "https://localhost:8080/"
        }
      },
      "source": [
        "imputer.fit(housing_num)"
      ],
      "execution_count": 286,
      "outputs": [
        {
          "output_type": "execute_result",
          "data": {
            "text/plain": [
              "SimpleImputer(add_indicator=False, copy=True, fill_value=None,\n",
              "              missing_values=nan, strategy='median', verbose=0)"
            ]
          },
          "metadata": {
            "tags": []
          },
          "execution_count": 286
        }
      ]
    },
    {
      "cell_type": "code",
      "metadata": {
        "id": "AmrI-8Kw58o6",
        "outputId": "2d6c64d9-07ed-4a11-b8f3-c52dbab892eb",
        "colab": {
          "base_uri": "https://localhost:8080/"
        }
      },
      "source": [
        "imputer.statistics_"
      ],
      "execution_count": 287,
      "outputs": [
        {
          "output_type": "execute_result",
          "data": {
            "text/plain": [
              "array([1034.26  ,   34.26  ,   29.    , 2119.5   ,  433.    , 1164.    ,\n",
              "        408.    ,    3.5409])"
            ]
          },
          "metadata": {
            "tags": []
          },
          "execution_count": 287
        }
      ]
    },
    {
      "cell_type": "code",
      "metadata": {
        "id": "4tAsh4Lk6BfC",
        "outputId": "89b10d18-c058-4199-b477-4ed910e4b30e",
        "colab": {
          "base_uri": "https://localhost:8080/"
        }
      },
      "source": [
        "housing_num.median().values"
      ],
      "execution_count": 288,
      "outputs": [
        {
          "output_type": "execute_result",
          "data": {
            "text/plain": [
              "array([1034.26  ,   34.26  ,   29.    , 2119.5   ,  433.    , 1164.    ,\n",
              "        408.    ,    3.5409])"
            ]
          },
          "metadata": {
            "tags": []
          },
          "execution_count": 288
        }
      ]
    },
    {
      "cell_type": "code",
      "metadata": {
        "id": "xRfrJO5p6Gb3"
      },
      "source": [
        "X=imputer.transform(housing_num)"
      ],
      "execution_count": 289,
      "outputs": []
    },
    {
      "cell_type": "code",
      "metadata": {
        "id": "41j8tusb6SOt"
      },
      "source": [
        "housing_tr = pd.DataFrame(X,columns=housing_num.columns,\n",
        "                          index=housing.index)"
      ],
      "execution_count": 290,
      "outputs": []
    },
    {
      "cell_type": "code",
      "metadata": {
        "id": "GSaNkpjk6el0",
        "outputId": "5b3da21b-0bb0-4314-aaa8-7af0db9eefe4",
        "colab": {
          "base_uri": "https://localhost:8080/",
          "height": 204
        }
      },
      "source": [
        "housing_tr.loc[sample_incomplete_rows.index.values]"
      ],
      "execution_count": 291,
      "outputs": [
        {
          "output_type": "execute_result",
          "data": {
            "text/html": [
              "<div>\n",
              "<style scoped>\n",
              "    .dataframe tbody tr th:only-of-type {\n",
              "        vertical-align: middle;\n",
              "    }\n",
              "\n",
              "    .dataframe tbody tr th {\n",
              "        vertical-align: top;\n",
              "    }\n",
              "\n",
              "    .dataframe thead th {\n",
              "        text-align: right;\n",
              "    }\n",
              "</style>\n",
              "<table border=\"1\" class=\"dataframe\">\n",
              "  <thead>\n",
              "    <tr style=\"text-align: right;\">\n",
              "      <th></th>\n",
              "      <th>longitude</th>\n",
              "      <th>latitude</th>\n",
              "      <th>housing_median_age</th>\n",
              "      <th>total_rooms</th>\n",
              "      <th>total_bedrooms</th>\n",
              "      <th>population</th>\n",
              "      <th>households</th>\n",
              "      <th>median_income</th>\n",
              "    </tr>\n",
              "  </thead>\n",
              "  <tbody>\n",
              "    <tr>\n",
              "      <th>4629</th>\n",
              "      <td>1034.07</td>\n",
              "      <td>34.07</td>\n",
              "      <td>18.0</td>\n",
              "      <td>3759.0</td>\n",
              "      <td>433.0</td>\n",
              "      <td>3296.0</td>\n",
              "      <td>1462.0</td>\n",
              "      <td>2.2708</td>\n",
              "    </tr>\n",
              "    <tr>\n",
              "      <th>6068</th>\n",
              "      <td>1034.01</td>\n",
              "      <td>34.01</td>\n",
              "      <td>16.0</td>\n",
              "      <td>4632.0</td>\n",
              "      <td>433.0</td>\n",
              "      <td>3038.0</td>\n",
              "      <td>727.0</td>\n",
              "      <td>5.1762</td>\n",
              "    </tr>\n",
              "    <tr>\n",
              "      <th>17923</th>\n",
              "      <td>1037.35</td>\n",
              "      <td>37.35</td>\n",
              "      <td>30.0</td>\n",
              "      <td>1955.0</td>\n",
              "      <td>433.0</td>\n",
              "      <td>999.0</td>\n",
              "      <td>386.0</td>\n",
              "      <td>4.6328</td>\n",
              "    </tr>\n",
              "    <tr>\n",
              "      <th>13656</th>\n",
              "      <td>1034.05</td>\n",
              "      <td>34.05</td>\n",
              "      <td>6.0</td>\n",
              "      <td>2155.0</td>\n",
              "      <td>433.0</td>\n",
              "      <td>1039.0</td>\n",
              "      <td>391.0</td>\n",
              "      <td>1.6675</td>\n",
              "    </tr>\n",
              "    <tr>\n",
              "      <th>19252</th>\n",
              "      <td>1038.48</td>\n",
              "      <td>38.48</td>\n",
              "      <td>7.0</td>\n",
              "      <td>6837.0</td>\n",
              "      <td>433.0</td>\n",
              "      <td>3468.0</td>\n",
              "      <td>1405.0</td>\n",
              "      <td>3.1662</td>\n",
              "    </tr>\n",
              "  </tbody>\n",
              "</table>\n",
              "</div>"
            ],
            "text/plain": [
              "       longitude  latitude  ...  households  median_income\n",
              "4629     1034.07     34.07  ...      1462.0         2.2708\n",
              "6068     1034.01     34.01  ...       727.0         5.1762\n",
              "17923    1037.35     37.35  ...       386.0         4.6328\n",
              "13656    1034.05     34.05  ...       391.0         1.6675\n",
              "19252    1038.48     38.48  ...      1405.0         3.1662\n",
              "\n",
              "[5 rows x 8 columns]"
            ]
          },
          "metadata": {
            "tags": []
          },
          "execution_count": 291
        }
      ]
    },
    {
      "cell_type": "code",
      "metadata": {
        "id": "2wCpki3O6kXX",
        "outputId": "db3e8bfc-61c2-4760-96ce-5925c7a8a53c",
        "colab": {
          "base_uri": "https://localhost:8080/",
          "height": 35
        }
      },
      "source": [
        "imputer.strategy"
      ],
      "execution_count": 292,
      "outputs": [
        {
          "output_type": "execute_result",
          "data": {
            "application/vnd.google.colaboratory.intrinsic+json": {
              "type": "string"
            },
            "text/plain": [
              "'median'"
            ]
          },
          "metadata": {
            "tags": []
          },
          "execution_count": 292
        }
      ]
    },
    {
      "cell_type": "code",
      "metadata": {
        "id": "GIPYmOvP6sR7"
      },
      "source": [
        "housing_tr = pd.DataFrame(X, columns=housing_num.columns,\n",
        "                          index=housing_num.index)"
      ],
      "execution_count": 293,
      "outputs": []
    },
    {
      "cell_type": "code",
      "metadata": {
        "id": "qqsBFZl46ul_",
        "outputId": "6b93b2f5-dde1-4391-e654-7a2095941aec",
        "colab": {
          "base_uri": "https://localhost:8080/",
          "height": 204
        }
      },
      "source": [
        "housing_tr.head()"
      ],
      "execution_count": 294,
      "outputs": [
        {
          "output_type": "execute_result",
          "data": {
            "text/html": [
              "<div>\n",
              "<style scoped>\n",
              "    .dataframe tbody tr th:only-of-type {\n",
              "        vertical-align: middle;\n",
              "    }\n",
              "\n",
              "    .dataframe tbody tr th {\n",
              "        vertical-align: top;\n",
              "    }\n",
              "\n",
              "    .dataframe thead th {\n",
              "        text-align: right;\n",
              "    }\n",
              "</style>\n",
              "<table border=\"1\" class=\"dataframe\">\n",
              "  <thead>\n",
              "    <tr style=\"text-align: right;\">\n",
              "      <th></th>\n",
              "      <th>longitude</th>\n",
              "      <th>latitude</th>\n",
              "      <th>housing_median_age</th>\n",
              "      <th>total_rooms</th>\n",
              "      <th>total_bedrooms</th>\n",
              "      <th>population</th>\n",
              "      <th>households</th>\n",
              "      <th>median_income</th>\n",
              "    </tr>\n",
              "  </thead>\n",
              "  <tbody>\n",
              "    <tr>\n",
              "      <th>17606</th>\n",
              "      <td>1037.29</td>\n",
              "      <td>37.29</td>\n",
              "      <td>38.0</td>\n",
              "      <td>1568.0</td>\n",
              "      <td>351.0</td>\n",
              "      <td>710.0</td>\n",
              "      <td>339.0</td>\n",
              "      <td>2.7042</td>\n",
              "    </tr>\n",
              "    <tr>\n",
              "      <th>18632</th>\n",
              "      <td>1037.05</td>\n",
              "      <td>37.05</td>\n",
              "      <td>14.0</td>\n",
              "      <td>679.0</td>\n",
              "      <td>108.0</td>\n",
              "      <td>306.0</td>\n",
              "      <td>113.0</td>\n",
              "      <td>6.4214</td>\n",
              "    </tr>\n",
              "    <tr>\n",
              "      <th>14650</th>\n",
              "      <td>1032.77</td>\n",
              "      <td>32.77</td>\n",
              "      <td>31.0</td>\n",
              "      <td>1952.0</td>\n",
              "      <td>471.0</td>\n",
              "      <td>936.0</td>\n",
              "      <td>462.0</td>\n",
              "      <td>2.8621</td>\n",
              "    </tr>\n",
              "    <tr>\n",
              "      <th>3230</th>\n",
              "      <td>1036.31</td>\n",
              "      <td>36.31</td>\n",
              "      <td>25.0</td>\n",
              "      <td>1847.0</td>\n",
              "      <td>371.0</td>\n",
              "      <td>1460.0</td>\n",
              "      <td>353.0</td>\n",
              "      <td>1.8839</td>\n",
              "    </tr>\n",
              "    <tr>\n",
              "      <th>3555</th>\n",
              "      <td>1034.23</td>\n",
              "      <td>34.23</td>\n",
              "      <td>17.0</td>\n",
              "      <td>6592.0</td>\n",
              "      <td>1525.0</td>\n",
              "      <td>4459.0</td>\n",
              "      <td>1463.0</td>\n",
              "      <td>3.0347</td>\n",
              "    </tr>\n",
              "  </tbody>\n",
              "</table>\n",
              "</div>"
            ],
            "text/plain": [
              "       longitude  latitude  ...  households  median_income\n",
              "17606    1037.29     37.29  ...       339.0         2.7042\n",
              "18632    1037.05     37.05  ...       113.0         6.4214\n",
              "14650    1032.77     32.77  ...       462.0         2.8621\n",
              "3230     1036.31     36.31  ...       353.0         1.8839\n",
              "3555     1034.23     34.23  ...      1463.0         3.0347\n",
              "\n",
              "[5 rows x 8 columns]"
            ]
          },
          "metadata": {
            "tags": []
          },
          "execution_count": 294
        }
      ]
    },
    {
      "cell_type": "code",
      "metadata": {
        "id": "5vUK_pAU65It",
        "outputId": "5476ef12-2018-4618-d6a2-d6fcb82c69ed",
        "colab": {
          "base_uri": "https://localhost:8080/",
          "height": 359
        }
      },
      "source": [
        "housing_cat=housing[[\"ocean_proximity\"]]\n",
        "housing_cat.head(10)"
      ],
      "execution_count": 295,
      "outputs": [
        {
          "output_type": "execute_result",
          "data": {
            "text/html": [
              "<div>\n",
              "<style scoped>\n",
              "    .dataframe tbody tr th:only-of-type {\n",
              "        vertical-align: middle;\n",
              "    }\n",
              "\n",
              "    .dataframe tbody tr th {\n",
              "        vertical-align: top;\n",
              "    }\n",
              "\n",
              "    .dataframe thead th {\n",
              "        text-align: right;\n",
              "    }\n",
              "</style>\n",
              "<table border=\"1\" class=\"dataframe\">\n",
              "  <thead>\n",
              "    <tr style=\"text-align: right;\">\n",
              "      <th></th>\n",
              "      <th>ocean_proximity</th>\n",
              "    </tr>\n",
              "  </thead>\n",
              "  <tbody>\n",
              "    <tr>\n",
              "      <th>17606</th>\n",
              "      <td>&lt;1H OCEAN</td>\n",
              "    </tr>\n",
              "    <tr>\n",
              "      <th>18632</th>\n",
              "      <td>&lt;1H OCEAN</td>\n",
              "    </tr>\n",
              "    <tr>\n",
              "      <th>14650</th>\n",
              "      <td>NEAR OCEAN</td>\n",
              "    </tr>\n",
              "    <tr>\n",
              "      <th>3230</th>\n",
              "      <td>INLAND</td>\n",
              "    </tr>\n",
              "    <tr>\n",
              "      <th>3555</th>\n",
              "      <td>&lt;1H OCEAN</td>\n",
              "    </tr>\n",
              "    <tr>\n",
              "      <th>19480</th>\n",
              "      <td>INLAND</td>\n",
              "    </tr>\n",
              "    <tr>\n",
              "      <th>8879</th>\n",
              "      <td>&lt;1H OCEAN</td>\n",
              "    </tr>\n",
              "    <tr>\n",
              "      <th>13685</th>\n",
              "      <td>INLAND</td>\n",
              "    </tr>\n",
              "    <tr>\n",
              "      <th>4937</th>\n",
              "      <td>&lt;1H OCEAN</td>\n",
              "    </tr>\n",
              "    <tr>\n",
              "      <th>4861</th>\n",
              "      <td>&lt;1H OCEAN</td>\n",
              "    </tr>\n",
              "  </tbody>\n",
              "</table>\n",
              "</div>"
            ],
            "text/plain": [
              "      ocean_proximity\n",
              "17606       <1H OCEAN\n",
              "18632       <1H OCEAN\n",
              "14650      NEAR OCEAN\n",
              "3230           INLAND\n",
              "3555        <1H OCEAN\n",
              "19480          INLAND\n",
              "8879        <1H OCEAN\n",
              "13685          INLAND\n",
              "4937        <1H OCEAN\n",
              "4861        <1H OCEAN"
            ]
          },
          "metadata": {
            "tags": []
          },
          "execution_count": 295
        }
      ]
    },
    {
      "cell_type": "code",
      "metadata": {
        "id": "ql9wD7gT6_bs",
        "outputId": "05e09c8f-aac8-4285-bec2-67f56be48934",
        "colab": {
          "base_uri": "https://localhost:8080/"
        }
      },
      "source": [
        "from sklearn.preprocessing import OrdinalEncoder\n",
        "ordinal_encoder=OrdinalEncoder()\n",
        "housing_cat_encoded = ordinal_encoder.fit_transform(housing_cat)\n",
        "housing_cat_encoded[:10]"
      ],
      "execution_count": 296,
      "outputs": [
        {
          "output_type": "execute_result",
          "data": {
            "text/plain": [
              "array([[0.],\n",
              "       [0.],\n",
              "       [4.],\n",
              "       [1.],\n",
              "       [0.],\n",
              "       [1.],\n",
              "       [0.],\n",
              "       [1.],\n",
              "       [0.],\n",
              "       [0.]])"
            ]
          },
          "metadata": {
            "tags": []
          },
          "execution_count": 296
        }
      ]
    },
    {
      "cell_type": "code",
      "metadata": {
        "id": "NdnNFjG_7k8B",
        "outputId": "509076cb-831c-43b2-b431-39c4232dac74",
        "colab": {
          "base_uri": "https://localhost:8080/"
        }
      },
      "source": [
        "ordinal_encoder.categories_"
      ],
      "execution_count": 297,
      "outputs": [
        {
          "output_type": "execute_result",
          "data": {
            "text/plain": [
              "[array(['<1H OCEAN', 'INLAND', 'ISLAND', 'NEAR BAY', 'NEAR OCEAN'],\n",
              "       dtype=object)]"
            ]
          },
          "metadata": {
            "tags": []
          },
          "execution_count": 297
        }
      ]
    },
    {
      "cell_type": "code",
      "metadata": {
        "id": "9JmllKmO7n3V",
        "outputId": "6d2cb5c8-d0ff-4500-8ddd-e5b9aeaf687e",
        "colab": {
          "base_uri": "https://localhost:8080/"
        }
      },
      "source": [
        "from sklearn.preprocessing import OneHotEncoder\n",
        "cat_encoder = OneHotEncoder()\n",
        "housing_cat_1hot= cat_encoder.fit_transform(housing_cat)\n",
        "housing_cat_1hot\n",
        "#by default one hot encoder returns a sparse arrat but we can convert it to a default array"
      ],
      "execution_count": 298,
      "outputs": [
        {
          "output_type": "execute_result",
          "data": {
            "text/plain": [
              "<16512x5 sparse matrix of type '<class 'numpy.float64'>'\n",
              "\twith 16512 stored elements in Compressed Sparse Row format>"
            ]
          },
          "metadata": {
            "tags": []
          },
          "execution_count": 298
        }
      ]
    },
    {
      "cell_type": "code",
      "metadata": {
        "id": "QOQ79Q-O73eo",
        "outputId": "00351094-c44c-4733-db80-791c2ff3fe4e",
        "colab": {
          "base_uri": "https://localhost:8080/"
        }
      },
      "source": [
        "housing_cat_1hot.toarray()"
      ],
      "execution_count": 299,
      "outputs": [
        {
          "output_type": "execute_result",
          "data": {
            "text/plain": [
              "array([[1., 0., 0., 0., 0.],\n",
              "       [1., 0., 0., 0., 0.],\n",
              "       [0., 0., 0., 0., 1.],\n",
              "       ...,\n",
              "       [0., 1., 0., 0., 0.],\n",
              "       [1., 0., 0., 0., 0.],\n",
              "       [0., 0., 0., 1., 0.]])"
            ]
          },
          "metadata": {
            "tags": []
          },
          "execution_count": 299
        }
      ]
    },
    {
      "cell_type": "code",
      "metadata": {
        "id": "M1HEVEIF8Egv",
        "outputId": "bf43f763-c1fb-4a74-8d4e-e00a731ff654",
        "colab": {
          "base_uri": "https://localhost:8080/"
        }
      },
      "source": [
        "cat_encoder = OneHotEncoder(sparse=False)\n",
        "housing_cat_1hot=cat_encoder.fit_transform(housing_cat)\n",
        "housing_cat_1hot"
      ],
      "execution_count": 300,
      "outputs": [
        {
          "output_type": "execute_result",
          "data": {
            "text/plain": [
              "array([[1., 0., 0., 0., 0.],\n",
              "       [1., 0., 0., 0., 0.],\n",
              "       [0., 0., 0., 0., 1.],\n",
              "       ...,\n",
              "       [0., 1., 0., 0., 0.],\n",
              "       [1., 0., 0., 0., 0.],\n",
              "       [0., 0., 0., 1., 0.]])"
            ]
          },
          "metadata": {
            "tags": []
          },
          "execution_count": 300
        }
      ]
    },
    {
      "cell_type": "code",
      "metadata": {
        "id": "phtsne0F8SQK"
      },
      "source": [
        ""
      ],
      "execution_count": 300,
      "outputs": []
    },
    {
      "cell_type": "markdown",
      "metadata": {
        "id": "QYaFjPnU8YhT"
      },
      "source": [
        "Let's create a custom transformer to add extra attributes"
      ]
    },
    {
      "cell_type": "code",
      "metadata": {
        "id": "1GTjNpO18eDL"
      },
      "source": [
        "from sklearn.base import BaseEstimator, TransformerMixin\n",
        "\n",
        "# column index\n",
        "rooms_ix, bedrooms_ix, population_ix, households_ix = 3, 4, 5, 6\n",
        "\n",
        "class CombinedAttributesAdder(BaseEstimator, TransformerMixin):\n",
        "    def __init__(self, add_bedrooms_per_room=True): # no *args or **kargs\n",
        "        self.add_bedrooms_per_room = add_bedrooms_per_room\n",
        "    def fit(self, X, y=None):\n",
        "        return self  # nothing else to do\n",
        "    def transform(self, X):\n",
        "        rooms_per_household = X[:, rooms_ix] / X[:, households_ix]\n",
        "        population_per_household = X[:, population_ix] / X[:, households_ix]\n",
        "        if self.add_bedrooms_per_room:\n",
        "            bedrooms_per_room = X[:, bedrooms_ix] / X[:, rooms_ix]\n",
        "            return np.c_[X, rooms_per_household, population_per_household,\n",
        "                         bedrooms_per_room]\n",
        "        else:\n",
        "            return np.c_[X, rooms_per_household, population_per_household]\n",
        "\n",
        "attr_adder = CombinedAttributesAdder(add_bedrooms_per_room=False)\n",
        "housing_extra_attribs = attr_adder.transform(housing.values)"
      ],
      "execution_count": 301,
      "outputs": []
    },
    {
      "cell_type": "code",
      "metadata": {
        "id": "WC6hxOPH9xxA"
      },
      "source": [
        "col_names= \"total_rooms\",\"total_bedrooms\",\"population\",\"households\"\n",
        "rooms_ix, bedrooms_ix, population_ix, households_ix = [\n",
        "                                                       housing.columns.get_loc(c) for c in col_names\n",
        "]"
      ],
      "execution_count": 302,
      "outputs": []
    },
    {
      "cell_type": "code",
      "metadata": {
        "id": "BAC4Lyex-QYY",
        "outputId": "289f4053-77a9-4975-bce6-53da0d5ff041",
        "colab": {
          "base_uri": "https://localhost:8080/",
          "height": 224
        }
      },
      "source": [
        "housing_extra_attribs = pd.DataFrame(\n",
        "    housing_extra_attribs,\n",
        "    columns=list(housing.columns)+[\"rooms_per_household\", \"population_per_household\"],\n",
        "    index=housing.index)\n",
        "housing_extra_attribs.head()"
      ],
      "execution_count": 303,
      "outputs": [
        {
          "output_type": "execute_result",
          "data": {
            "text/html": [
              "<div>\n",
              "<style scoped>\n",
              "    .dataframe tbody tr th:only-of-type {\n",
              "        vertical-align: middle;\n",
              "    }\n",
              "\n",
              "    .dataframe tbody tr th {\n",
              "        vertical-align: top;\n",
              "    }\n",
              "\n",
              "    .dataframe thead th {\n",
              "        text-align: right;\n",
              "    }\n",
              "</style>\n",
              "<table border=\"1\" class=\"dataframe\">\n",
              "  <thead>\n",
              "    <tr style=\"text-align: right;\">\n",
              "      <th></th>\n",
              "      <th>longitude</th>\n",
              "      <th>latitude</th>\n",
              "      <th>housing_median_age</th>\n",
              "      <th>total_rooms</th>\n",
              "      <th>total_bedrooms</th>\n",
              "      <th>population</th>\n",
              "      <th>households</th>\n",
              "      <th>median_income</th>\n",
              "      <th>ocean_proximity</th>\n",
              "      <th>rooms_per_household</th>\n",
              "      <th>population_per_household</th>\n",
              "    </tr>\n",
              "  </thead>\n",
              "  <tbody>\n",
              "    <tr>\n",
              "      <th>17606</th>\n",
              "      <td>1037.29</td>\n",
              "      <td>37.29</td>\n",
              "      <td>38</td>\n",
              "      <td>1568</td>\n",
              "      <td>351</td>\n",
              "      <td>710</td>\n",
              "      <td>339</td>\n",
              "      <td>2.7042</td>\n",
              "      <td>&lt;1H OCEAN</td>\n",
              "      <td>4.62537</td>\n",
              "      <td>2.0944</td>\n",
              "    </tr>\n",
              "    <tr>\n",
              "      <th>18632</th>\n",
              "      <td>1037.05</td>\n",
              "      <td>37.05</td>\n",
              "      <td>14</td>\n",
              "      <td>679</td>\n",
              "      <td>108</td>\n",
              "      <td>306</td>\n",
              "      <td>113</td>\n",
              "      <td>6.4214</td>\n",
              "      <td>&lt;1H OCEAN</td>\n",
              "      <td>6.00885</td>\n",
              "      <td>2.70796</td>\n",
              "    </tr>\n",
              "    <tr>\n",
              "      <th>14650</th>\n",
              "      <td>1032.77</td>\n",
              "      <td>32.77</td>\n",
              "      <td>31</td>\n",
              "      <td>1952</td>\n",
              "      <td>471</td>\n",
              "      <td>936</td>\n",
              "      <td>462</td>\n",
              "      <td>2.8621</td>\n",
              "      <td>NEAR OCEAN</td>\n",
              "      <td>4.22511</td>\n",
              "      <td>2.02597</td>\n",
              "    </tr>\n",
              "    <tr>\n",
              "      <th>3230</th>\n",
              "      <td>1036.31</td>\n",
              "      <td>36.31</td>\n",
              "      <td>25</td>\n",
              "      <td>1847</td>\n",
              "      <td>371</td>\n",
              "      <td>1460</td>\n",
              "      <td>353</td>\n",
              "      <td>1.8839</td>\n",
              "      <td>INLAND</td>\n",
              "      <td>5.23229</td>\n",
              "      <td>4.13598</td>\n",
              "    </tr>\n",
              "    <tr>\n",
              "      <th>3555</th>\n",
              "      <td>1034.23</td>\n",
              "      <td>34.23</td>\n",
              "      <td>17</td>\n",
              "      <td>6592</td>\n",
              "      <td>1525</td>\n",
              "      <td>4459</td>\n",
              "      <td>1463</td>\n",
              "      <td>3.0347</td>\n",
              "      <td>&lt;1H OCEAN</td>\n",
              "      <td>4.50581</td>\n",
              "      <td>3.04785</td>\n",
              "    </tr>\n",
              "  </tbody>\n",
              "</table>\n",
              "</div>"
            ],
            "text/plain": [
              "      longitude latitude  ... rooms_per_household population_per_household\n",
              "17606   1037.29    37.29  ...             4.62537                   2.0944\n",
              "18632   1037.05    37.05  ...             6.00885                  2.70796\n",
              "14650   1032.77    32.77  ...             4.22511                  2.02597\n",
              "3230    1036.31    36.31  ...             5.23229                  4.13598\n",
              "3555    1034.23    34.23  ...             4.50581                  3.04785\n",
              "\n",
              "[5 rows x 11 columns]"
            ]
          },
          "metadata": {
            "tags": []
          },
          "execution_count": 303
        }
      ]
    },
    {
      "cell_type": "code",
      "metadata": {
        "id": "FbSqMOr2-SMK"
      },
      "source": [
        ""
      ],
      "execution_count": 303,
      "outputs": []
    },
    {
      "cell_type": "markdown",
      "metadata": {
        "id": "KCsnXiaK-Uw8"
      },
      "source": [
        "We have seperately deal with categorical and numerical attributes, now let's create a pipeline for preprocessing"
      ]
    },
    {
      "cell_type": "code",
      "metadata": {
        "id": "k-j2-MEk-ggU"
      },
      "source": [
        "from sklearn.pipeline import Pipeline\n",
        "from sklearn.preprocessing import StandardScaler\n",
        "\n",
        "num_pipeline = Pipeline([\n",
        "        ('imputer', SimpleImputer(strategy=\"median\")),\n",
        "        ('attribs_adder', CombinedAttributesAdder()),\n",
        "        ('std_scaler', StandardScaler()),\n",
        "    ])\n",
        "\n",
        "housing_num_tr = num_pipeline.fit_transform(housing_num)"
      ],
      "execution_count": 304,
      "outputs": []
    },
    {
      "cell_type": "code",
      "metadata": {
        "id": "68zCPx8T_Byl",
        "outputId": "3f7c5b0b-e9f0-4ea6-85f1-5d8d30b05b36",
        "colab": {
          "base_uri": "https://localhost:8080/"
        }
      },
      "source": [
        "housing_num_tr"
      ],
      "execution_count": 305,
      "outputs": [
        {
          "output_type": "execute_result",
          "data": {
            "text/plain": [
              "array([[ 0.77194962,  0.77194962,  0.74333089, ..., -0.31205452,\n",
              "        -0.08649871,  0.15531753],\n",
              "       [ 0.6596948 ,  0.6596948 , -1.1653172 , ...,  0.21768338,\n",
              "        -0.03353391, -0.83628902],\n",
              "       [-1.34218285, -1.34218285,  0.18664186, ..., -0.46531516,\n",
              "        -0.09240499,  0.4222004 ],\n",
              "       ...,\n",
              "       [-0.72478134, -0.72478134, -1.56295222, ...,  0.3469342 ,\n",
              "        -0.03055414, -0.52177644],\n",
              "       [-0.85106801, -0.85106801,  0.18664186, ...,  0.02499488,\n",
              "         0.06150916, -0.30340741],\n",
              "       [ 0.99645926,  0.99645926,  1.85670895, ..., -0.22852947,\n",
              "        -0.09586294,  0.10180567]])"
            ]
          },
          "metadata": {
            "tags": []
          },
          "execution_count": 305
        }
      ]
    },
    {
      "cell_type": "code",
      "metadata": {
        "id": "kz65SBQq_Gf1"
      },
      "source": [
        "from sklearn.compose import ColumnTransformer\n",
        "\n",
        "num_attribs = list(housing_num)\n",
        "cat_attribs = [\"ocean_proximity\"]\n",
        "\n",
        "full_pipeline = ColumnTransformer([\n",
        "        (\"num\", num_pipeline, num_attribs),\n",
        "        (\"cat\", OneHotEncoder(), cat_attribs),\n",
        "    ])\n",
        "\n",
        "housing_prepared = full_pipeline.fit_transform(housing)"
      ],
      "execution_count": 306,
      "outputs": []
    },
    {
      "cell_type": "code",
      "metadata": {
        "id": "OdQdJrVe_YLZ",
        "outputId": "10682d6a-551f-433d-fcc4-c8354398897a",
        "colab": {
          "base_uri": "https://localhost:8080/"
        }
      },
      "source": [
        "housing_prepared.shape"
      ],
      "execution_count": 307,
      "outputs": [
        {
          "output_type": "execute_result",
          "data": {
            "text/plain": [
              "(16512, 16)"
            ]
          },
          "metadata": {
            "tags": []
          },
          "execution_count": 307
        }
      ]
    },
    {
      "cell_type": "code",
      "metadata": {
        "id": "pCud-dui_auM"
      },
      "source": [
        "from sklearn.base import BaseEstimator, TransformerMixin\n",
        "\n",
        "# Create a class to select numerical or categorical columns \n",
        "class OldDataFrameSelector(BaseEstimator, TransformerMixin):\n",
        "    def __init__(self, attribute_names):\n",
        "        self.attribute_names = attribute_names\n",
        "    def fit(self, X, y=None):\n",
        "        return self\n",
        "    def transform(self, X):\n",
        "        return X[self.attribute_names].values"
      ],
      "execution_count": 308,
      "outputs": []
    },
    {
      "cell_type": "code",
      "metadata": {
        "id": "I9fgeHJz_dpz"
      },
      "source": [
        "num_attribs = list(housing_num)\n",
        "cat_attribs = [\"ocean_proximity\"]\n",
        "\n",
        "old_num_pipeline = Pipeline([\n",
        "        ('selector', OldDataFrameSelector(num_attribs)),\n",
        "        ('imputer', SimpleImputer(strategy=\"median\")),\n",
        "        ('attribs_adder', CombinedAttributesAdder()),\n",
        "        ('std_scaler', StandardScaler()),\n",
        "    ])\n",
        "\n",
        "old_cat_pipeline = Pipeline([\n",
        "        ('selector', OldDataFrameSelector(cat_attribs)),\n",
        "        ('cat_encoder', OneHotEncoder(sparse=False)),\n",
        "    ])"
      ],
      "execution_count": 309,
      "outputs": []
    },
    {
      "cell_type": "code",
      "metadata": {
        "id": "07MR_3b4_fny"
      },
      "source": [
        "from sklearn.pipeline import FeatureUnion\n",
        "\n",
        "old_full_pipeline = FeatureUnion(transformer_list=[\n",
        "        (\"num_pipeline\", old_num_pipeline),\n",
        "        (\"cat_pipeline\", old_cat_pipeline),\n",
        "    ])"
      ],
      "execution_count": 310,
      "outputs": []
    },
    {
      "cell_type": "code",
      "metadata": {
        "id": "B7OyWia0_hkx",
        "outputId": "bac438e6-7f41-416f-e29f-787aa9cb675d",
        "colab": {
          "base_uri": "https://localhost:8080/"
        }
      },
      "source": [
        "old_housing_prepared = old_full_pipeline.fit_transform(housing)\n",
        "old_housing_prepared"
      ],
      "execution_count": 311,
      "outputs": [
        {
          "output_type": "execute_result",
          "data": {
            "text/plain": [
              "array([[ 0.77194962,  0.77194962,  0.74333089, ...,  0.        ,\n",
              "         0.        ,  0.        ],\n",
              "       [ 0.6596948 ,  0.6596948 , -1.1653172 , ...,  0.        ,\n",
              "         0.        ,  0.        ],\n",
              "       [-1.34218285, -1.34218285,  0.18664186, ...,  0.        ,\n",
              "         0.        ,  1.        ],\n",
              "       ...,\n",
              "       [-0.72478134, -0.72478134, -1.56295222, ...,  0.        ,\n",
              "         0.        ,  0.        ],\n",
              "       [-0.85106801, -0.85106801,  0.18664186, ...,  0.        ,\n",
              "         0.        ,  0.        ],\n",
              "       [ 0.99645926,  0.99645926,  1.85670895, ...,  0.        ,\n",
              "         1.        ,  0.        ]])"
            ]
          },
          "metadata": {
            "tags": []
          },
          "execution_count": 311
        }
      ]
    },
    {
      "cell_type": "code",
      "metadata": {
        "id": "SVIwYUbV_iyf",
        "outputId": "9f56db18-aab1-4393-af7b-1c0984a9839a",
        "colab": {
          "base_uri": "https://localhost:8080/"
        }
      },
      "source": [
        "np.allclose(housing_prepared, old_housing_prepared)"
      ],
      "execution_count": 312,
      "outputs": [
        {
          "output_type": "execute_result",
          "data": {
            "text/plain": [
              "True"
            ]
          },
          "metadata": {
            "tags": []
          },
          "execution_count": 312
        }
      ]
    },
    {
      "cell_type": "code",
      "metadata": {
        "id": "IgJY0eih_l0k"
      },
      "source": [
        ""
      ],
      "execution_count": 312,
      "outputs": []
    },
    {
      "cell_type": "markdown",
      "metadata": {
        "id": "9_VY2dju_0Hk"
      },
      "source": [
        "Let's select and train a model"
      ]
    },
    {
      "cell_type": "code",
      "metadata": {
        "id": "XpQZmgYH_3ZT",
        "outputId": "644c3003-7830-44ef-bd98-d7ae36b5e74c",
        "colab": {
          "base_uri": "https://localhost:8080/"
        }
      },
      "source": [
        "from sklearn.linear_model import LinearRegression\n",
        "lin_reg=LinearRegression()\n",
        "lin_reg.fit(housing_prepared, housing_labels)"
      ],
      "execution_count": 313,
      "outputs": [
        {
          "output_type": "execute_result",
          "data": {
            "text/plain": [
              "LinearRegression(copy_X=True, fit_intercept=True, n_jobs=None, normalize=False)"
            ]
          },
          "metadata": {
            "tags": []
          },
          "execution_count": 313
        }
      ]
    },
    {
      "cell_type": "code",
      "metadata": {
        "id": "bCZSFSaDABgS",
        "outputId": "b627f0a8-d5be-4d78-9ed4-74461ea28404",
        "colab": {
          "base_uri": "https://localhost:8080/"
        }
      },
      "source": [
        "some_data=housing.iloc[:5]\n",
        "some_labels = housing_labels.iloc[:5]\n",
        "some_data_prepared = full_pipeline.transform(some_data)\n",
        "\n",
        "print(\"Predictions:\" ,lin_reg.predict(some_data_prepared))"
      ],
      "execution_count": 314,
      "outputs": [
        {
          "output_type": "stream",
          "text": [
            "Predictions: [197365.15625 299045.15625 218173.15625  52045.15625 187709.15625]\n"
          ],
          "name": "stdout"
        }
      ]
    },
    {
      "cell_type": "code",
      "metadata": {
        "id": "Iw7gpmQ7AT3d",
        "outputId": "44a0f0a1-65ba-4dd6-9012-875a3e46edd8",
        "colab": {
          "base_uri": "https://localhost:8080/"
        }
      },
      "source": [
        "from sklearn.metrics import mean_squared_error\n",
        "housing_predictions = lin_reg.predict(housing_prepared)\n",
        "lin_mse = mean_squared_error(housing_labels, housing_predictions)\n",
        "lin_rmse = np.sqrt(lin_mse)\n",
        "lin_rmse"
      ],
      "execution_count": 315,
      "outputs": [
        {
          "output_type": "execute_result",
          "data": {
            "text/plain": [
              "69827.43796876358"
            ]
          },
          "metadata": {
            "tags": []
          },
          "execution_count": 315
        }
      ]
    },
    {
      "cell_type": "code",
      "metadata": {
        "id": "FxgO3bpiAxA4",
        "outputId": "568cbf3e-ae94-4755-ecf4-fabf9fe0151e",
        "colab": {
          "base_uri": "https://localhost:8080/"
        }
      },
      "source": [
        "from sklearn.metrics import mean_absolute_error\n",
        "lin_mae = mean_absolute_error(housing_labels,housing_predictions)\n",
        "lin_mae"
      ],
      "execution_count": 316,
      "outputs": [
        {
          "output_type": "execute_result",
          "data": {
            "text/plain": [
              "50107.106106543724"
            ]
          },
          "metadata": {
            "tags": []
          },
          "execution_count": 316
        }
      ]
    },
    {
      "cell_type": "code",
      "metadata": {
        "id": "8M7oK7P1BTLg",
        "outputId": "b1163756-2ee0-457a-9b04-53921f8f3579",
        "colab": {
          "base_uri": "https://localhost:8080/"
        }
      },
      "source": [
        "from sklearn.tree import DecisionTreeRegressor\n",
        "tree_reg = DecisionTreeRegressor(random_state=42)\n",
        "tree_reg.fit(housing_prepared,housing_labels)"
      ],
      "execution_count": 317,
      "outputs": [
        {
          "output_type": "execute_result",
          "data": {
            "text/plain": [
              "DecisionTreeRegressor(ccp_alpha=0.0, criterion='mse', max_depth=None,\n",
              "                      max_features=None, max_leaf_nodes=None,\n",
              "                      min_impurity_decrease=0.0, min_impurity_split=None,\n",
              "                      min_samples_leaf=1, min_samples_split=2,\n",
              "                      min_weight_fraction_leaf=0.0, presort='deprecated',\n",
              "                      random_state=42, splitter='best')"
            ]
          },
          "metadata": {
            "tags": []
          },
          "execution_count": 317
        }
      ]
    },
    {
      "cell_type": "code",
      "metadata": {
        "id": "p6A_O83QBjbj",
        "outputId": "0a72a26f-0551-4b06-8b6f-6485b6db2eea",
        "colab": {
          "base_uri": "https://localhost:8080/"
        }
      },
      "source": [
        "housing_predictions = tree_reg.predict(housing_prepared)\n",
        "tree_mse= mean_squared_error(housing_labels, housing_predictions)\n",
        "tree_rmse = np.sqrt(tree_mse)\n",
        "tree_rmse"
      ],
      "execution_count": 318,
      "outputs": [
        {
          "output_type": "execute_result",
          "data": {
            "text/plain": [
              "0.0"
            ]
          },
          "metadata": {
            "tags": []
          },
          "execution_count": 318
        }
      ]
    },
    {
      "cell_type": "code",
      "metadata": {
        "id": "dtJIvV17B3er"
      },
      "source": [
        ""
      ],
      "execution_count": 318,
      "outputs": []
    },
    {
      "cell_type": "markdown",
      "metadata": {
        "id": "g55COQ7DB8vm"
      },
      "source": [
        "Let's tune our models"
      ]
    },
    {
      "cell_type": "code",
      "metadata": {
        "id": "c25beZ14CBBp"
      },
      "source": [
        "from sklearn.model_selection import cross_val_score\n",
        "\n",
        "scores = cross_val_score(tree_reg, housing_prepared, housing_labels,\n",
        "                         scoring=\"neg_mean_squared_error\", cv=10)\n",
        "tree_rmse_scores = np.sqrt(-scores)"
      ],
      "execution_count": 319,
      "outputs": []
    },
    {
      "cell_type": "code",
      "metadata": {
        "id": "XhcmwvG7CEMZ",
        "outputId": "54ee72d7-8d9e-4b6a-e98d-4565177be16d",
        "colab": {
          "base_uri": "https://localhost:8080/"
        }
      },
      "source": [
        "def display_scores(scores):\n",
        "    print(\"Scores:\", scores)\n",
        "    print(\"Mean:\", scores.mean())\n",
        "    print(\"Standard deviation:\", scores.std())\n",
        "\n",
        "display_scores(tree_rmse_scores)"
      ],
      "execution_count": 320,
      "outputs": [
        {
          "output_type": "stream",
          "text": [
            "Scores: [75367.89207997 73824.39348735 76919.23422484 76381.29030372\n",
            " 75937.2667204  79947.06775545 74292.06170256 73807.5668977\n",
            " 80013.10049412 77965.69700627]\n",
            "Mean: 76445.55706723614\n",
            "Standard deviation: 2177.4761247240467\n"
          ],
          "name": "stdout"
        }
      ]
    },
    {
      "cell_type": "code",
      "metadata": {
        "id": "GqjlFgIfCGiA",
        "outputId": "b76896c9-fe03-41fb-9010-2d22bb11571b",
        "colab": {
          "base_uri": "https://localhost:8080/"
        }
      },
      "source": [
        "lin_scores= cross_val_score(lin_reg, housing_prepared, housing_labels,\n",
        "                            scoring = \"neg_mean_squared_error\", cv=10)\n",
        "lin_rmse_scores=np.sqrt(-lin_scores)\n",
        "display_scores(lin_rmse_scores)"
      ],
      "execution_count": 321,
      "outputs": [
        {
          "output_type": "stream",
          "text": [
            "Scores: [68180.57053061 67942.66874693 70750.08651123 76174.60629048\n",
            " 69153.1764804  72516.33286333 66288.47584279 69230.53900701\n",
            " 72732.69822866 69187.29094476]\n",
            "Mean: 70215.64454461918\n",
            "Standard deviation: 2744.284259302108\n"
          ],
          "name": "stdout"
        }
      ]
    },
    {
      "cell_type": "code",
      "metadata": {
        "id": "t2ZwfFLnL60W",
        "outputId": "7184fda9-5bc1-4c0d-d659-54c7e57e0add",
        "colab": {
          "base_uri": "https://localhost:8080/"
        }
      },
      "source": [
        "from sklearn.ensemble import RandomForestRegressor\n",
        "forest_reg = RandomForestRegressor(n_estimators=100, random_state=42)\n",
        "forest_reg.fit(housing_prepared,housing_labels)"
      ],
      "execution_count": 322,
      "outputs": [
        {
          "output_type": "execute_result",
          "data": {
            "text/plain": [
              "RandomForestRegressor(bootstrap=True, ccp_alpha=0.0, criterion='mse',\n",
              "                      max_depth=None, max_features='auto', max_leaf_nodes=None,\n",
              "                      max_samples=None, min_impurity_decrease=0.0,\n",
              "                      min_impurity_split=None, min_samples_leaf=1,\n",
              "                      min_samples_split=2, min_weight_fraction_leaf=0.0,\n",
              "                      n_estimators=100, n_jobs=None, oob_score=False,\n",
              "                      random_state=42, verbose=0, warm_start=False)"
            ]
          },
          "metadata": {
            "tags": []
          },
          "execution_count": 322
        }
      ]
    },
    {
      "cell_type": "code",
      "metadata": {
        "id": "48-O6bvuMVW7",
        "outputId": "ffa25ea5-eaca-4e5d-d73d-f5eb412d48be",
        "colab": {
          "base_uri": "https://localhost:8080/"
        }
      },
      "source": [
        "housing_predictions=forest_reg.predict(housing_prepared)\n",
        "forest_mse= mean_squared_error(housing_labels, housing_predictions)\n",
        "forest_rmse=np.sqrt(forest_mse)\n",
        "forest_rmse"
      ],
      "execution_count": 323,
      "outputs": [
        {
          "output_type": "execute_result",
          "data": {
            "text/plain": [
              "20236.674737137822"
            ]
          },
          "metadata": {
            "tags": []
          },
          "execution_count": 323
        }
      ]
    },
    {
      "cell_type": "code",
      "metadata": {
        "id": "U8dUFFZ3MpLs",
        "outputId": "f8fbb0b4-4eda-40d6-fb9c-fee2c24912d1",
        "colab": {
          "base_uri": "https://localhost:8080/"
        }
      },
      "source": [
        "from sklearn.model_selection import cross_val_score\n",
        "forest_scores= cross_val_score(forest_reg, housing_prepared, housing_labels,\n",
        "                               scoring=\"neg_mean_squared_error\", cv=10)\n",
        "forest_rmse_scores=np.sqrt(-forest_scores)\n",
        "display_scores(forest_rmse_scores)"
      ],
      "execution_count": 324,
      "outputs": [
        {
          "output_type": "stream",
          "text": [
            "Scores: [53686.74212139 51071.84519182 54167.51979662 56560.05830184\n",
            " 54862.26748713 57393.85318608 52677.93774429 51933.92818034\n",
            " 57631.19313585 54839.13250698]\n",
            "Mean: 54482.447765233424\n",
            "Standard deviation: 2123.5483748334123\n"
          ],
          "name": "stdout"
        }
      ]
    },
    {
      "cell_type": "code",
      "metadata": {
        "id": "hkAiaIZjNC6k",
        "outputId": "1ef09bb1-950b-407a-922c-f1160ba82da1",
        "colab": {
          "base_uri": "https://localhost:8080/"
        }
      },
      "source": [
        "scores = cross_val_score(lin_reg, housing_prepared, housing_labels, scoring=\"neg_mean_squared_error\",cv=10)\n",
        "pd.Series(np.sqrt(-scores)).describe()"
      ],
      "execution_count": 326,
      "outputs": [
        {
          "output_type": "execute_result",
          "data": {
            "text/plain": [
              "count       10.000000\n",
              "mean     70215.644545\n",
              "std       2892.729602\n",
              "min      66288.475843\n",
              "25%      68423.722018\n",
              "50%      69208.914976\n",
              "75%      72074.771275\n",
              "max      76174.606290\n",
              "dtype: float64"
            ]
          },
          "metadata": {
            "tags": []
          },
          "execution_count": 326
        }
      ]
    },
    {
      "cell_type": "code",
      "metadata": {
        "id": "7BZZniZVNwNH",
        "outputId": "0322fb59-5168-494f-9a9a-98c0a4e2ca7a",
        "colab": {
          "base_uri": "https://localhost:8080/"
        }
      },
      "source": [
        "from sklearn.svm import SVR\n",
        "svm_reg= SVR(kernel=\"linear\")\n",
        "svm_reg.fit(housing_prepared,housing_labels)\n",
        "housing_predictions= svm_reg.predict(housing_prepared)\n",
        "svm_mse = mean_squared_error(housing_labels, housing_predictions)\n",
        "svm_rmse = np.sqrt(svm_mse)\n",
        "svm_rmse"
      ],
      "execution_count": 327,
      "outputs": [
        {
          "output_type": "execute_result",
          "data": {
            "text/plain": [
              "111153.07687394094"
            ]
          },
          "metadata": {
            "tags": []
          },
          "execution_count": 327
        }
      ]
    },
    {
      "cell_type": "code",
      "metadata": {
        "id": "pKGK2aEQOZys"
      },
      "source": [
        ""
      ],
      "execution_count": null,
      "outputs": []
    },
    {
      "cell_type": "markdown",
      "metadata": {
        "id": "H-ub6-0JOgTl"
      },
      "source": [
        "Let's tune our model"
      ]
    },
    {
      "cell_type": "code",
      "metadata": {
        "id": "dqOhgAGnOhoy",
        "outputId": "d97c274c-e441-4a16-8dee-19704434e265",
        "colab": {
          "base_uri": "https://localhost:8080/"
        }
      },
      "source": [
        "from sklearn.model_selection import GridSearchCV\n",
        "param_grid = [\n",
        "              {\"n_estimators\": [ 3,10,30],\"max_features\":[2,4,6,8]},\n",
        "              {\"bootstrap\":[False], \"n_estimators\":[3,10], \"max_features\":[2,3,4]},\n",
        "\n",
        "]\n",
        "forest_reg=RandomForestRegressor(random_state=42)\n",
        "\n",
        "grid_search=GridSearchCV(forest_reg, param_grid, cv=5,\n",
        "                         scoring=\"neg_mean_squared_error\",\n",
        "                         return_train_score=True)\n",
        "grid_search.fit(housing_prepared, housing_labels)"
      ],
      "execution_count": 328,
      "outputs": [
        {
          "output_type": "execute_result",
          "data": {
            "text/plain": [
              "GridSearchCV(cv=5, error_score=nan,\n",
              "             estimator=RandomForestRegressor(bootstrap=True, ccp_alpha=0.0,\n",
              "                                             criterion='mse', max_depth=None,\n",
              "                                             max_features='auto',\n",
              "                                             max_leaf_nodes=None,\n",
              "                                             max_samples=None,\n",
              "                                             min_impurity_decrease=0.0,\n",
              "                                             min_impurity_split=None,\n",
              "                                             min_samples_leaf=1,\n",
              "                                             min_samples_split=2,\n",
              "                                             min_weight_fraction_leaf=0.0,\n",
              "                                             n_estimators=100, n_jobs=None,\n",
              "                                             oob_score=False, random_state=42,\n",
              "                                             verbose=0, warm_start=False),\n",
              "             iid='deprecated', n_jobs=None,\n",
              "             param_grid=[{'max_features': [2, 4, 6, 8],\n",
              "                          'n_estimators': [3, 10, 30]},\n",
              "                         {'bootstrap': [False], 'max_features': [2, 3, 4],\n",
              "                          'n_estimators': [3, 10]}],\n",
              "             pre_dispatch='2*n_jobs', refit=True, return_train_score=True,\n",
              "             scoring='neg_mean_squared_error', verbose=0)"
            ]
          },
          "metadata": {
            "tags": []
          },
          "execution_count": 328
        }
      ]
    },
    {
      "cell_type": "code",
      "metadata": {
        "id": "ba3ePnENPdK3",
        "outputId": "72f7158f-08ea-4761-d88c-35bf3f030df9",
        "colab": {
          "base_uri": "https://localhost:8080/"
        }
      },
      "source": [
        "grid_search.best_params_"
      ],
      "execution_count": 329,
      "outputs": [
        {
          "output_type": "execute_result",
          "data": {
            "text/plain": [
              "{'max_features': 6, 'n_estimators': 30}"
            ]
          },
          "metadata": {
            "tags": []
          },
          "execution_count": 329
        }
      ]
    },
    {
      "cell_type": "code",
      "metadata": {
        "id": "fvO1uYVFPh7c",
        "outputId": "bfc775e0-ff57-4d1d-cfbe-c9ca248ea931",
        "colab": {
          "base_uri": "https://localhost:8080/"
        }
      },
      "source": [
        "grid_search.best_estimator_"
      ],
      "execution_count": 330,
      "outputs": [
        {
          "output_type": "execute_result",
          "data": {
            "text/plain": [
              "RandomForestRegressor(bootstrap=True, ccp_alpha=0.0, criterion='mse',\n",
              "                      max_depth=None, max_features=6, max_leaf_nodes=None,\n",
              "                      max_samples=None, min_impurity_decrease=0.0,\n",
              "                      min_impurity_split=None, min_samples_leaf=1,\n",
              "                      min_samples_split=2, min_weight_fraction_leaf=0.0,\n",
              "                      n_estimators=30, n_jobs=None, oob_score=False,\n",
              "                      random_state=42, verbose=0, warm_start=False)"
            ]
          },
          "metadata": {
            "tags": []
          },
          "execution_count": 330
        }
      ]
    },
    {
      "cell_type": "code",
      "metadata": {
        "id": "AQmwrdKHPiaI",
        "outputId": "ad2361dd-8ef0-4c13-b203-3213922e93df",
        "colab": {
          "base_uri": "https://localhost:8080/"
        }
      },
      "source": [
        "cvres = grid_search.cv_results_\n",
        "for mean_score, params in zip(cvres[\"mean_test_score\"], cvres[\"params\"]):\n",
        "    print(np.sqrt(-mean_score), params)"
      ],
      "execution_count": 331,
      "outputs": [
        {
          "output_type": "stream",
          "text": [
            "67911.38016816886 {'max_features': 2, 'n_estimators': 3}\n",
            "59092.85229027272 {'max_features': 2, 'n_estimators': 10}\n",
            "56112.66072661909 {'max_features': 2, 'n_estimators': 30}\n",
            "63864.07217140354 {'max_features': 4, 'n_estimators': 3}\n",
            "56596.30692429547 {'max_features': 4, 'n_estimators': 10}\n",
            "54301.64256195408 {'max_features': 4, 'n_estimators': 30}\n",
            "62393.70530843037 {'max_features': 6, 'n_estimators': 3}\n",
            "55931.71361570398 {'max_features': 6, 'n_estimators': 10}\n",
            "53818.16458418862 {'max_features': 6, 'n_estimators': 30}\n",
            "63177.28835639294 {'max_features': 8, 'n_estimators': 3}\n",
            "56287.47880957734 {'max_features': 8, 'n_estimators': 10}\n",
            "54021.223383140925 {'max_features': 8, 'n_estimators': 30}\n",
            "65260.49804351446 {'bootstrap': False, 'max_features': 2, 'n_estimators': 3}\n",
            "57699.59948733347 {'bootstrap': False, 'max_features': 2, 'n_estimators': 10}\n",
            "63475.35867325466 {'bootstrap': False, 'max_features': 3, 'n_estimators': 3}\n",
            "56871.24651544431 {'bootstrap': False, 'max_features': 3, 'n_estimators': 10}\n",
            "63319.462475557186 {'bootstrap': False, 'max_features': 4, 'n_estimators': 3}\n",
            "56073.14644277395 {'bootstrap': False, 'max_features': 4, 'n_estimators': 10}\n"
          ],
          "name": "stdout"
        }
      ]
    },
    {
      "cell_type": "code",
      "metadata": {
        "id": "pR90TCdVPmZJ",
        "outputId": "a5651391-e04c-4fe6-cb1b-9f1e34f0ada4",
        "colab": {
          "base_uri": "https://localhost:8080/",
          "height": 1000
        }
      },
      "source": [
        "pd.DataFrame(grid_search.cv_results_)"
      ],
      "execution_count": 332,
      "outputs": [
        {
          "output_type": "execute_result",
          "data": {
            "text/html": [
              "<div>\n",
              "<style scoped>\n",
              "    .dataframe tbody tr th:only-of-type {\n",
              "        vertical-align: middle;\n",
              "    }\n",
              "\n",
              "    .dataframe tbody tr th {\n",
              "        vertical-align: top;\n",
              "    }\n",
              "\n",
              "    .dataframe thead th {\n",
              "        text-align: right;\n",
              "    }\n",
              "</style>\n",
              "<table border=\"1\" class=\"dataframe\">\n",
              "  <thead>\n",
              "    <tr style=\"text-align: right;\">\n",
              "      <th></th>\n",
              "      <th>mean_fit_time</th>\n",
              "      <th>std_fit_time</th>\n",
              "      <th>mean_score_time</th>\n",
              "      <th>std_score_time</th>\n",
              "      <th>param_max_features</th>\n",
              "      <th>param_n_estimators</th>\n",
              "      <th>param_bootstrap</th>\n",
              "      <th>params</th>\n",
              "      <th>split0_test_score</th>\n",
              "      <th>split1_test_score</th>\n",
              "      <th>split2_test_score</th>\n",
              "      <th>split3_test_score</th>\n",
              "      <th>split4_test_score</th>\n",
              "      <th>mean_test_score</th>\n",
              "      <th>std_test_score</th>\n",
              "      <th>rank_test_score</th>\n",
              "      <th>split0_train_score</th>\n",
              "      <th>split1_train_score</th>\n",
              "      <th>split2_train_score</th>\n",
              "      <th>split3_train_score</th>\n",
              "      <th>split4_train_score</th>\n",
              "      <th>mean_train_score</th>\n",
              "      <th>std_train_score</th>\n",
              "    </tr>\n",
              "  </thead>\n",
              "  <tbody>\n",
              "    <tr>\n",
              "      <th>0</th>\n",
              "      <td>0.077696</td>\n",
              "      <td>0.002245</td>\n",
              "      <td>0.007113</td>\n",
              "      <td>0.002420</td>\n",
              "      <td>2</td>\n",
              "      <td>3</td>\n",
              "      <td>NaN</td>\n",
              "      <td>{'max_features': 2, 'n_estimators': 3}</td>\n",
              "      <td>-4.499818e+09</td>\n",
              "      <td>-4.848031e+09</td>\n",
              "      <td>-4.587477e+09</td>\n",
              "      <td>-4.629505e+09</td>\n",
              "      <td>-4.494946e+09</td>\n",
              "      <td>-4.611956e+09</td>\n",
              "      <td>1.287670e+08</td>\n",
              "      <td>18</td>\n",
              "      <td>-1.208131e+09</td>\n",
              "      <td>-1.187863e+09</td>\n",
              "      <td>-1.285537e+09</td>\n",
              "      <td>-1.273896e+09</td>\n",
              "      <td>-1.211490e+09</td>\n",
              "      <td>-1.233383e+09</td>\n",
              "      <td>3.885993e+07</td>\n",
              "    </tr>\n",
              "    <tr>\n",
              "      <th>1</th>\n",
              "      <td>0.247097</td>\n",
              "      <td>0.010750</td>\n",
              "      <td>0.013764</td>\n",
              "      <td>0.001538</td>\n",
              "      <td>2</td>\n",
              "      <td>10</td>\n",
              "      <td>NaN</td>\n",
              "      <td>{'max_features': 2, 'n_estimators': 10}</td>\n",
              "      <td>-3.428834e+09</td>\n",
              "      <td>-3.570492e+09</td>\n",
              "      <td>-3.523403e+09</td>\n",
              "      <td>-3.436306e+09</td>\n",
              "      <td>-3.500791e+09</td>\n",
              "      <td>-3.491965e+09</td>\n",
              "      <td>5.350895e+07</td>\n",
              "      <td>11</td>\n",
              "      <td>-6.579107e+08</td>\n",
              "      <td>-6.246991e+08</td>\n",
              "      <td>-6.496373e+08</td>\n",
              "      <td>-6.699692e+08</td>\n",
              "      <td>-6.405365e+08</td>\n",
              "      <td>-6.485506e+08</td>\n",
              "      <td>1.536665e+07</td>\n",
              "    </tr>\n",
              "    <tr>\n",
              "      <th>2</th>\n",
              "      <td>0.764181</td>\n",
              "      <td>0.027065</td>\n",
              "      <td>0.040577</td>\n",
              "      <td>0.003469</td>\n",
              "      <td>2</td>\n",
              "      <td>30</td>\n",
              "      <td>NaN</td>\n",
              "      <td>{'max_features': 2, 'n_estimators': 30}</td>\n",
              "      <td>-3.010685e+09</td>\n",
              "      <td>-3.267475e+09</td>\n",
              "      <td>-3.269325e+09</td>\n",
              "      <td>-2.942148e+09</td>\n",
              "      <td>-3.253519e+09</td>\n",
              "      <td>-3.148631e+09</td>\n",
              "      <td>1.423776e+08</td>\n",
              "      <td>6</td>\n",
              "      <td>-4.831312e+08</td>\n",
              "      <td>-4.721124e+08</td>\n",
              "      <td>-4.793028e+08</td>\n",
              "      <td>-4.968608e+08</td>\n",
              "      <td>-4.824451e+08</td>\n",
              "      <td>-4.827705e+08</td>\n",
              "      <td>8.054747e+06</td>\n",
              "    </tr>\n",
              "    <tr>\n",
              "      <th>3</th>\n",
              "      <td>0.122252</td>\n",
              "      <td>0.004665</td>\n",
              "      <td>0.005352</td>\n",
              "      <td>0.000674</td>\n",
              "      <td>4</td>\n",
              "      <td>3</td>\n",
              "      <td>NaN</td>\n",
              "      <td>{'max_features': 4, 'n_estimators': 3}</td>\n",
              "      <td>-4.027441e+09</td>\n",
              "      <td>-4.183657e+09</td>\n",
              "      <td>-4.201007e+09</td>\n",
              "      <td>-3.852647e+09</td>\n",
              "      <td>-4.128347e+09</td>\n",
              "      <td>-4.078620e+09</td>\n",
              "      <td>1.281929e+08</td>\n",
              "      <td>16</td>\n",
              "      <td>-1.103599e+09</td>\n",
              "      <td>-1.116219e+09</td>\n",
              "      <td>-1.036590e+09</td>\n",
              "      <td>-1.113550e+09</td>\n",
              "      <td>-1.073815e+09</td>\n",
              "      <td>-1.088754e+09</td>\n",
              "      <td>3.011238e+07</td>\n",
              "    </tr>\n",
              "    <tr>\n",
              "      <th>4</th>\n",
              "      <td>0.405060</td>\n",
              "      <td>0.006438</td>\n",
              "      <td>0.015266</td>\n",
              "      <td>0.000849</td>\n",
              "      <td>4</td>\n",
              "      <td>10</td>\n",
              "      <td>NaN</td>\n",
              "      <td>{'max_features': 4, 'n_estimators': 10}</td>\n",
              "      <td>-3.112367e+09</td>\n",
              "      <td>-3.288888e+09</td>\n",
              "      <td>-3.342302e+09</td>\n",
              "      <td>-3.017422e+09</td>\n",
              "      <td>-3.254731e+09</td>\n",
              "      <td>-3.203142e+09</td>\n",
              "      <td>1.200926e+08</td>\n",
              "      <td>8</td>\n",
              "      <td>-5.976443e+08</td>\n",
              "      <td>-5.776642e+08</td>\n",
              "      <td>-5.588854e+08</td>\n",
              "      <td>-5.977355e+08</td>\n",
              "      <td>-5.725836e+08</td>\n",
              "      <td>-5.809026e+08</td>\n",
              "      <td>1.502055e+07</td>\n",
              "    </tr>\n",
              "    <tr>\n",
              "      <th>5</th>\n",
              "      <td>1.167649</td>\n",
              "      <td>0.040071</td>\n",
              "      <td>0.036585</td>\n",
              "      <td>0.004925</td>\n",
              "      <td>4</td>\n",
              "      <td>30</td>\n",
              "      <td>NaN</td>\n",
              "      <td>{'max_features': 4, 'n_estimators': 30}</td>\n",
              "      <td>-2.761453e+09</td>\n",
              "      <td>-3.041204e+09</td>\n",
              "      <td>-3.105420e+09</td>\n",
              "      <td>-2.749252e+09</td>\n",
              "      <td>-3.086013e+09</td>\n",
              "      <td>-2.948668e+09</td>\n",
              "      <td>1.592570e+08</td>\n",
              "      <td>3</td>\n",
              "      <td>-4.511423e+08</td>\n",
              "      <td>-4.430831e+08</td>\n",
              "      <td>-4.358969e+08</td>\n",
              "      <td>-4.610367e+08</td>\n",
              "      <td>-4.489666e+08</td>\n",
              "      <td>-4.480251e+08</td>\n",
              "      <td>8.383581e+06</td>\n",
              "    </tr>\n",
              "    <tr>\n",
              "      <th>6</th>\n",
              "      <td>0.158824</td>\n",
              "      <td>0.005785</td>\n",
              "      <td>0.004715</td>\n",
              "      <td>0.000330</td>\n",
              "      <td>6</td>\n",
              "      <td>3</td>\n",
              "      <td>NaN</td>\n",
              "      <td>{'max_features': 6, 'n_estimators': 3}</td>\n",
              "      <td>-3.783209e+09</td>\n",
              "      <td>-4.064072e+09</td>\n",
              "      <td>-4.054646e+09</td>\n",
              "      <td>-3.605075e+09</td>\n",
              "      <td>-3.957870e+09</td>\n",
              "      <td>-3.892974e+09</td>\n",
              "      <td>1.758172e+08</td>\n",
              "      <td>12</td>\n",
              "      <td>-9.875222e+08</td>\n",
              "      <td>-9.928170e+08</td>\n",
              "      <td>-1.033618e+09</td>\n",
              "      <td>-1.028563e+09</td>\n",
              "      <td>-9.969666e+08</td>\n",
              "      <td>-1.007897e+09</td>\n",
              "      <td>1.923879e+07</td>\n",
              "    </tr>\n",
              "    <tr>\n",
              "      <th>7</th>\n",
              "      <td>0.546360</td>\n",
              "      <td>0.022577</td>\n",
              "      <td>0.014007</td>\n",
              "      <td>0.001231</td>\n",
              "      <td>6</td>\n",
              "      <td>10</td>\n",
              "      <td>NaN</td>\n",
              "      <td>{'max_features': 6, 'n_estimators': 10}</td>\n",
              "      <td>-2.945634e+09</td>\n",
              "      <td>-3.245906e+09</td>\n",
              "      <td>-3.298921e+09</td>\n",
              "      <td>-2.946189e+09</td>\n",
              "      <td>-3.205133e+09</td>\n",
              "      <td>-3.128357e+09</td>\n",
              "      <td>1.519057e+08</td>\n",
              "      <td>4</td>\n",
              "      <td>-5.512349e+08</td>\n",
              "      <td>-5.521866e+08</td>\n",
              "      <td>-5.597565e+08</td>\n",
              "      <td>-5.830517e+08</td>\n",
              "      <td>-5.633545e+08</td>\n",
              "      <td>-5.619168e+08</td>\n",
              "      <td>1.150824e+07</td>\n",
              "    </tr>\n",
              "    <tr>\n",
              "      <th>8</th>\n",
              "      <td>1.632798</td>\n",
              "      <td>0.044091</td>\n",
              "      <td>0.039280</td>\n",
              "      <td>0.005052</td>\n",
              "      <td>6</td>\n",
              "      <td>30</td>\n",
              "      <td>NaN</td>\n",
              "      <td>{'max_features': 6, 'n_estimators': 30}</td>\n",
              "      <td>-2.721841e+09</td>\n",
              "      <td>-2.967797e+09</td>\n",
              "      <td>-3.091649e+09</td>\n",
              "      <td>-2.725367e+09</td>\n",
              "      <td>-2.975320e+09</td>\n",
              "      <td>-2.896395e+09</td>\n",
              "      <td>1.477641e+08</td>\n",
              "      <td>1</td>\n",
              "      <td>-4.383809e+08</td>\n",
              "      <td>-4.324799e+08</td>\n",
              "      <td>-4.359530e+08</td>\n",
              "      <td>-4.566488e+08</td>\n",
              "      <td>-4.469473e+08</td>\n",
              "      <td>-4.420820e+08</td>\n",
              "      <td>8.710057e+06</td>\n",
              "    </tr>\n",
              "    <tr>\n",
              "      <th>9</th>\n",
              "      <td>0.214398</td>\n",
              "      <td>0.007402</td>\n",
              "      <td>0.005490</td>\n",
              "      <td>0.000544</td>\n",
              "      <td>8</td>\n",
              "      <td>3</td>\n",
              "      <td>NaN</td>\n",
              "      <td>{'max_features': 8, 'n_estimators': 3}</td>\n",
              "      <td>-3.897352e+09</td>\n",
              "      <td>-4.182893e+09</td>\n",
              "      <td>-4.045943e+09</td>\n",
              "      <td>-3.791371e+09</td>\n",
              "      <td>-4.039289e+09</td>\n",
              "      <td>-3.991370e+09</td>\n",
              "      <td>1.347551e+08</td>\n",
              "      <td>13</td>\n",
              "      <td>-1.057276e+09</td>\n",
              "      <td>-1.014005e+09</td>\n",
              "      <td>-9.888321e+08</td>\n",
              "      <td>-1.070728e+09</td>\n",
              "      <td>-1.051427e+09</td>\n",
              "      <td>-1.036454e+09</td>\n",
              "      <td>3.034560e+07</td>\n",
              "    </tr>\n",
              "    <tr>\n",
              "      <th>10</th>\n",
              "      <td>0.708211</td>\n",
              "      <td>0.013539</td>\n",
              "      <td>0.014973</td>\n",
              "      <td>0.001130</td>\n",
              "      <td>8</td>\n",
              "      <td>10</td>\n",
              "      <td>NaN</td>\n",
              "      <td>{'max_features': 8, 'n_estimators': 10}</td>\n",
              "      <td>-3.056708e+09</td>\n",
              "      <td>-3.301247e+09</td>\n",
              "      <td>-3.289554e+09</td>\n",
              "      <td>-2.938703e+09</td>\n",
              "      <td>-3.255190e+09</td>\n",
              "      <td>-3.168280e+09</td>\n",
              "      <td>1.449790e+08</td>\n",
              "      <td>7</td>\n",
              "      <td>-5.869851e+08</td>\n",
              "      <td>-5.641200e+08</td>\n",
              "      <td>-5.498965e+08</td>\n",
              "      <td>-5.844524e+08</td>\n",
              "      <td>-5.747553e+08</td>\n",
              "      <td>-5.720419e+08</td>\n",
              "      <td>1.369566e+07</td>\n",
              "    </tr>\n",
              "    <tr>\n",
              "      <th>11</th>\n",
              "      <td>2.069000</td>\n",
              "      <td>0.042234</td>\n",
              "      <td>0.036359</td>\n",
              "      <td>0.002731</td>\n",
              "      <td>8</td>\n",
              "      <td>30</td>\n",
              "      <td>NaN</td>\n",
              "      <td>{'max_features': 8, 'n_estimators': 30}</td>\n",
              "      <td>-2.792982e+09</td>\n",
              "      <td>-2.995019e+09</td>\n",
              "      <td>-3.078569e+09</td>\n",
              "      <td>-2.694325e+09</td>\n",
              "      <td>-3.030568e+09</td>\n",
              "      <td>-2.918293e+09</td>\n",
              "      <td>1.483545e+08</td>\n",
              "      <td>2</td>\n",
              "      <td>-4.538374e+08</td>\n",
              "      <td>-4.396323e+08</td>\n",
              "      <td>-4.428524e+08</td>\n",
              "      <td>-4.562542e+08</td>\n",
              "      <td>-4.439979e+08</td>\n",
              "      <td>-4.473148e+08</td>\n",
              "      <td>6.517552e+06</td>\n",
              "    </tr>\n",
              "    <tr>\n",
              "      <th>12</th>\n",
              "      <td>0.121066</td>\n",
              "      <td>0.002848</td>\n",
              "      <td>0.007206</td>\n",
              "      <td>0.000242</td>\n",
              "      <td>2</td>\n",
              "      <td>3</td>\n",
              "      <td>False</td>\n",
              "      <td>{'bootstrap': False, 'max_features': 2, 'n_est...</td>\n",
              "      <td>-4.074260e+09</td>\n",
              "      <td>-4.492176e+09</td>\n",
              "      <td>-4.343477e+09</td>\n",
              "      <td>-4.167770e+09</td>\n",
              "      <td>-4.216980e+09</td>\n",
              "      <td>-4.258933e+09</td>\n",
              "      <td>1.454128e+08</td>\n",
              "      <td>17</td>\n",
              "      <td>-0.000000e+00</td>\n",
              "      <td>-0.000000e+00</td>\n",
              "      <td>-0.000000e+00</td>\n",
              "      <td>-0.000000e+00</td>\n",
              "      <td>-0.000000e+00</td>\n",
              "      <td>0.000000e+00</td>\n",
              "      <td>0.000000e+00</td>\n",
              "    </tr>\n",
              "    <tr>\n",
              "      <th>13</th>\n",
              "      <td>0.381591</td>\n",
              "      <td>0.018850</td>\n",
              "      <td>0.016797</td>\n",
              "      <td>0.002368</td>\n",
              "      <td>2</td>\n",
              "      <td>10</td>\n",
              "      <td>False</td>\n",
              "      <td>{'bootstrap': False, 'max_features': 2, 'n_est...</td>\n",
              "      <td>-3.134411e+09</td>\n",
              "      <td>-3.480736e+09</td>\n",
              "      <td>-3.462085e+09</td>\n",
              "      <td>-3.147334e+09</td>\n",
              "      <td>-3.421653e+09</td>\n",
              "      <td>-3.329244e+09</td>\n",
              "      <td>1.550400e+08</td>\n",
              "      <td>10</td>\n",
              "      <td>-0.000000e+00</td>\n",
              "      <td>-9.463245e+02</td>\n",
              "      <td>-4.093868e+01</td>\n",
              "      <td>-0.000000e+00</td>\n",
              "      <td>-0.000000e+00</td>\n",
              "      <td>-1.974526e+02</td>\n",
              "      <td>3.747715e+02</td>\n",
              "    </tr>\n",
              "    <tr>\n",
              "      <th>14</th>\n",
              "      <td>0.149701</td>\n",
              "      <td>0.001505</td>\n",
              "      <td>0.005697</td>\n",
              "      <td>0.000645</td>\n",
              "      <td>3</td>\n",
              "      <td>3</td>\n",
              "      <td>False</td>\n",
              "      <td>{'bootstrap': False, 'max_features': 3, 'n_est...</td>\n",
              "      <td>-3.801569e+09</td>\n",
              "      <td>-4.253425e+09</td>\n",
              "      <td>-4.084890e+09</td>\n",
              "      <td>-3.933980e+09</td>\n",
              "      <td>-4.071742e+09</td>\n",
              "      <td>-4.029121e+09</td>\n",
              "      <td>1.523619e+08</td>\n",
              "      <td>15</td>\n",
              "      <td>-0.000000e+00</td>\n",
              "      <td>-0.000000e+00</td>\n",
              "      <td>-0.000000e+00</td>\n",
              "      <td>-0.000000e+00</td>\n",
              "      <td>-0.000000e+00</td>\n",
              "      <td>0.000000e+00</td>\n",
              "      <td>0.000000e+00</td>\n",
              "    </tr>\n",
              "    <tr>\n",
              "      <th>15</th>\n",
              "      <td>0.522344</td>\n",
              "      <td>0.010667</td>\n",
              "      <td>0.019979</td>\n",
              "      <td>0.001344</td>\n",
              "      <td>3</td>\n",
              "      <td>10</td>\n",
              "      <td>False</td>\n",
              "      <td>{'bootstrap': False, 'max_features': 3, 'n_est...</td>\n",
              "      <td>-3.058830e+09</td>\n",
              "      <td>-3.355761e+09</td>\n",
              "      <td>-3.362442e+09</td>\n",
              "      <td>-3.062310e+09</td>\n",
              "      <td>-3.332351e+09</td>\n",
              "      <td>-3.234339e+09</td>\n",
              "      <td>1.422374e+08</td>\n",
              "      <td>9</td>\n",
              "      <td>-0.000000e+00</td>\n",
              "      <td>-0.000000e+00</td>\n",
              "      <td>-3.962453e+02</td>\n",
              "      <td>-0.000000e+00</td>\n",
              "      <td>-4.590462e+01</td>\n",
              "      <td>-8.842998e+01</td>\n",
              "      <td>1.549311e+02</td>\n",
              "    </tr>\n",
              "    <tr>\n",
              "      <th>16</th>\n",
              "      <td>0.199470</td>\n",
              "      <td>0.005310</td>\n",
              "      <td>0.006872</td>\n",
              "      <td>0.000318</td>\n",
              "      <td>4</td>\n",
              "      <td>3</td>\n",
              "      <td>False</td>\n",
              "      <td>{'bootstrap': False, 'max_features': 4, 'n_est...</td>\n",
              "      <td>-3.798331e+09</td>\n",
              "      <td>-4.065639e+09</td>\n",
              "      <td>-4.299515e+09</td>\n",
              "      <td>-3.986343e+09</td>\n",
              "      <td>-3.896944e+09</td>\n",
              "      <td>-4.009354e+09</td>\n",
              "      <td>1.703278e+08</td>\n",
              "      <td>14</td>\n",
              "      <td>-0.000000e+00</td>\n",
              "      <td>-0.000000e+00</td>\n",
              "      <td>-0.000000e+00</td>\n",
              "      <td>-0.000000e+00</td>\n",
              "      <td>-0.000000e+00</td>\n",
              "      <td>0.000000e+00</td>\n",
              "      <td>0.000000e+00</td>\n",
              "    </tr>\n",
              "    <tr>\n",
              "      <th>17</th>\n",
              "      <td>0.639274</td>\n",
              "      <td>0.022625</td>\n",
              "      <td>0.016881</td>\n",
              "      <td>0.001708</td>\n",
              "      <td>4</td>\n",
              "      <td>10</td>\n",
              "      <td>False</td>\n",
              "      <td>{'bootstrap': False, 'max_features': 4, 'n_est...</td>\n",
              "      <td>-2.938648e+09</td>\n",
              "      <td>-3.162748e+09</td>\n",
              "      <td>-3.364145e+09</td>\n",
              "      <td>-3.085291e+09</td>\n",
              "      <td>-3.170157e+09</td>\n",
              "      <td>-3.144198e+09</td>\n",
              "      <td>1.379242e+08</td>\n",
              "      <td>5</td>\n",
              "      <td>-0.000000e+00</td>\n",
              "      <td>-0.000000e+00</td>\n",
              "      <td>-0.000000e+00</td>\n",
              "      <td>-0.000000e+00</td>\n",
              "      <td>-0.000000e+00</td>\n",
              "      <td>0.000000e+00</td>\n",
              "      <td>0.000000e+00</td>\n",
              "    </tr>\n",
              "  </tbody>\n",
              "</table>\n",
              "</div>"
            ],
            "text/plain": [
              "    mean_fit_time  std_fit_time  ...  mean_train_score  std_train_score\n",
              "0        0.077696      0.002245  ...     -1.233383e+09     3.885993e+07\n",
              "1        0.247097      0.010750  ...     -6.485506e+08     1.536665e+07\n",
              "2        0.764181      0.027065  ...     -4.827705e+08     8.054747e+06\n",
              "3        0.122252      0.004665  ...     -1.088754e+09     3.011238e+07\n",
              "4        0.405060      0.006438  ...     -5.809026e+08     1.502055e+07\n",
              "5        1.167649      0.040071  ...     -4.480251e+08     8.383581e+06\n",
              "6        0.158824      0.005785  ...     -1.007897e+09     1.923879e+07\n",
              "7        0.546360      0.022577  ...     -5.619168e+08     1.150824e+07\n",
              "8        1.632798      0.044091  ...     -4.420820e+08     8.710057e+06\n",
              "9        0.214398      0.007402  ...     -1.036454e+09     3.034560e+07\n",
              "10       0.708211      0.013539  ...     -5.720419e+08     1.369566e+07\n",
              "11       2.069000      0.042234  ...     -4.473148e+08     6.517552e+06\n",
              "12       0.121066      0.002848  ...      0.000000e+00     0.000000e+00\n",
              "13       0.381591      0.018850  ...     -1.974526e+02     3.747715e+02\n",
              "14       0.149701      0.001505  ...      0.000000e+00     0.000000e+00\n",
              "15       0.522344      0.010667  ...     -8.842998e+01     1.549311e+02\n",
              "16       0.199470      0.005310  ...      0.000000e+00     0.000000e+00\n",
              "17       0.639274      0.022625  ...      0.000000e+00     0.000000e+00\n",
              "\n",
              "[18 rows x 23 columns]"
            ]
          },
          "metadata": {
            "tags": []
          },
          "execution_count": 332
        }
      ]
    },
    {
      "cell_type": "code",
      "metadata": {
        "id": "R6eNo0oOPqdO",
        "outputId": "d1a83353-4fa2-4872-da47-a169fd517d04",
        "colab": {
          "base_uri": "https://localhost:8080/"
        }
      },
      "source": [
        "from sklearn.model_selection import RandomizedSearchCV\n",
        "from scipy.stats import randint\n",
        "\n",
        "param_distribs = {\n",
        "        'n_estimators': randint(low=1, high=200),\n",
        "        'max_features': randint(low=1, high=8),\n",
        "    }\n",
        "\n",
        "forest_reg = RandomForestRegressor(random_state=42)\n",
        "rnd_search = RandomizedSearchCV(forest_reg, param_distributions=param_distribs,\n",
        "                                n_iter=10, cv=5, scoring='neg_mean_squared_error', random_state=42)\n",
        "rnd_search.fit(housing_prepared, housing_labels)"
      ],
      "execution_count": 333,
      "outputs": [
        {
          "output_type": "execute_result",
          "data": {
            "text/plain": [
              "RandomizedSearchCV(cv=5, error_score=nan,\n",
              "                   estimator=RandomForestRegressor(bootstrap=True,\n",
              "                                                   ccp_alpha=0.0,\n",
              "                                                   criterion='mse',\n",
              "                                                   max_depth=None,\n",
              "                                                   max_features='auto',\n",
              "                                                   max_leaf_nodes=None,\n",
              "                                                   max_samples=None,\n",
              "                                                   min_impurity_decrease=0.0,\n",
              "                                                   min_impurity_split=None,\n",
              "                                                   min_samples_leaf=1,\n",
              "                                                   min_samples_split=2,\n",
              "                                                   min_weight_fraction_leaf=0.0,\n",
              "                                                   n_estimators=100,\n",
              "                                                   n_jobs=None, oob_score=Fals...\n",
              "                                                   warm_start=False),\n",
              "                   iid='deprecated', n_iter=10, n_jobs=None,\n",
              "                   param_distributions={'max_features': <scipy.stats._distn_infrastructure.rv_frozen object at 0x7efd6704c550>,\n",
              "                                        'n_estimators': <scipy.stats._distn_infrastructure.rv_frozen object at 0x7efd6704c750>},\n",
              "                   pre_dispatch='2*n_jobs', random_state=42, refit=True,\n",
              "                   return_train_score=False, scoring='neg_mean_squared_error',\n",
              "                   verbose=0)"
            ]
          },
          "metadata": {
            "tags": []
          },
          "execution_count": 333
        }
      ]
    },
    {
      "cell_type": "code",
      "metadata": {
        "id": "F8Vn9mLqPq_q",
        "outputId": "faca85fb-f941-412e-898c-026a93e55024",
        "colab": {
          "base_uri": "https://localhost:8080/"
        }
      },
      "source": [
        "cvres = rnd_search.cv_results_\n",
        "for mean_score, params in zip(cvres[\"mean_test_score\"], cvres[\"params\"]):\n",
        "    print(np.sqrt(-mean_score), params)"
      ],
      "execution_count": 334,
      "outputs": [
        {
          "output_type": "stream",
          "text": [
            "53148.32790373497 {'max_features': 7, 'n_estimators': 180}\n",
            "55457.20926298478 {'max_features': 5, 'n_estimators': 15}\n",
            "54427.900809862535 {'max_features': 3, 'n_estimators': 72}\n",
            "54634.77817616807 {'max_features': 5, 'n_estimators': 21}\n",
            "53287.121505154835 {'max_features': 7, 'n_estimators': 122}\n",
            "54428.17100870866 {'max_features': 3, 'n_estimators': 75}\n",
            "54267.24366540303 {'max_features': 3, 'n_estimators': 88}\n",
            "53344.271340628504 {'max_features': 5, 'n_estimators': 100}\n",
            "53944.04523193209 {'max_features': 3, 'n_estimators': 150}\n",
            "69248.22865958506 {'max_features': 5, 'n_estimators': 2}\n"
          ],
          "name": "stdout"
        }
      ]
    },
    {
      "cell_type": "code",
      "metadata": {
        "id": "ZigYe7gPPup8",
        "outputId": "bbd9bda1-6402-4b16-eb27-8dad1f50e012",
        "colab": {
          "base_uri": "https://localhost:8080/"
        }
      },
      "source": [
        "feature_importances = grid_search.best_estimator_.feature_importances_\n",
        "feature_importances"
      ],
      "execution_count": 335,
      "outputs": [
        {
          "output_type": "execute_result",
          "data": {
            "text/plain": [
              "array([5.11740401e-02, 5.43615367e-02, 4.75901653e-02, 2.21190998e-02,\n",
              "       1.86547722e-02, 2.15804931e-02, 1.87423935e-02, 3.27426290e-01,\n",
              "       4.90550665e-02, 1.18865705e-01, 1.01704567e-01, 1.01106239e-02,\n",
              "       1.52113564e-01, 7.79602652e-05, 2.40041418e-03, 4.02330795e-03])"
            ]
          },
          "metadata": {
            "tags": []
          },
          "execution_count": 335
        }
      ]
    },
    {
      "cell_type": "code",
      "metadata": {
        "id": "O-M5VpLnPwWf",
        "outputId": "5922c06f-55d9-406e-e47e-488a777dbb53",
        "colab": {
          "base_uri": "https://localhost:8080/"
        }
      },
      "source": [
        "extra_attribs = [\"rooms_per_hhold\", \"pop_per_hhold\", \"bedrooms_per_room\"]\n",
        "#cat_encoder = cat_pipeline.named_steps[\"cat_encoder\"] # old solution\n",
        "cat_encoder = full_pipeline.named_transformers_[\"cat\"]\n",
        "cat_one_hot_attribs = list(cat_encoder.categories_[0])\n",
        "attributes = num_attribs + extra_attribs + cat_one_hot_attribs\n",
        "sorted(zip(feature_importances, attributes), reverse=True)"
      ],
      "execution_count": 336,
      "outputs": [
        {
          "output_type": "execute_result",
          "data": {
            "text/plain": [
              "[(0.3274262902560937, 'median_income'),\n",
              " (0.152113564365015, 'INLAND'),\n",
              " (0.1188657052200724, 'pop_per_hhold'),\n",
              " (0.10170456672545906, 'bedrooms_per_room'),\n",
              " (0.054361536744692025, 'latitude'),\n",
              " (0.05117404005397061, 'longitude'),\n",
              " (0.049055066494512974, 'rooms_per_hhold'),\n",
              " (0.04759016530456051, 'housing_median_age'),\n",
              " (0.022119099798938183, 'total_rooms'),\n",
              " (0.02158049309614606, 'population'),\n",
              " (0.018742393489426443, 'households'),\n",
              " (0.018654772199439635, 'total_bedrooms'),\n",
              " (0.01011062386158338, '<1H OCEAN'),\n",
              " (0.004023307948801391, 'NEAR OCEAN'),\n",
              " (0.0024004141760643406, 'NEAR BAY'),\n",
              " (7.796026522437399e-05, 'ISLAND')]"
            ]
          },
          "metadata": {
            "tags": []
          },
          "execution_count": 336
        }
      ]
    },
    {
      "cell_type": "code",
      "metadata": {
        "id": "eF_ui51TP7oR"
      },
      "source": [
        "final_model = grid_search.best_estimator_\n",
        "\n",
        "X_test = strat_test_set.drop(\"median_house_value\", axis=1)\n",
        "y_test = strat_test_set[\"median_house_value\"].copy()\n",
        "\n",
        "X_test_prepared = full_pipeline.transform(X_test)\n",
        "final_predictions = final_model.predict(X_test_prepared)\n",
        "\n",
        "final_mse = mean_squared_error(y_test, final_predictions)\n",
        "final_rmse = np.sqrt(final_mse)"
      ],
      "execution_count": 337,
      "outputs": []
    },
    {
      "cell_type": "code",
      "metadata": {
        "id": "eCERpd-RP9KQ",
        "outputId": "48830603-f085-4675-8793-4fa3f8d9b106",
        "colab": {
          "base_uri": "https://localhost:8080/"
        }
      },
      "source": [
        "final_rmse"
      ],
      "execution_count": 338,
      "outputs": [
        {
          "output_type": "execute_result",
          "data": {
            "text/plain": [
              "51946.10041776367"
            ]
          },
          "metadata": {
            "tags": []
          },
          "execution_count": 338
        }
      ]
    },
    {
      "cell_type": "code",
      "metadata": {
        "id": "937uGkKYQClh",
        "outputId": "02b8601c-af4f-4a1c-8871-d973f7a195c8",
        "colab": {
          "base_uri": "https://localhost:8080/"
        }
      },
      "source": [
        "from scipy import stats\n",
        "\n",
        "confidence = 0.95\n",
        "squared_errors = (final_predictions - y_test) ** 2\n",
        "np.sqrt(stats.t.interval(confidence, len(squared_errors) - 1,\n",
        "                         loc=squared_errors.mean(),\n",
        "                         scale=stats.sem(squared_errors)))"
      ],
      "execution_count": 339,
      "outputs": [
        {
          "output_type": "execute_result",
          "data": {
            "text/plain": [
              "array([49991.85425805, 53829.44552071])"
            ]
          },
          "metadata": {
            "tags": []
          },
          "execution_count": 339
        }
      ]
    },
    {
      "cell_type": "code",
      "metadata": {
        "id": "yYKFNTIjQERN",
        "outputId": "b374a4d3-4a33-42d5-e253-7568ba150ea2",
        "colab": {
          "base_uri": "https://localhost:8080/"
        }
      },
      "source": [
        "m = len(squared_errors)\n",
        "mean = squared_errors.mean()\n",
        "tscore = stats.t.ppf((1 + confidence) / 2, df=m - 1)\n",
        "tmargin = tscore * squared_errors.std(ddof=1) / np.sqrt(m)\n",
        "np.sqrt(mean - tmargin), np.sqrt(mean + tmargin)"
      ],
      "execution_count": 340,
      "outputs": [
        {
          "output_type": "execute_result",
          "data": {
            "text/plain": [
              "(49991.85425804565, 53829.445520710215)"
            ]
          },
          "metadata": {
            "tags": []
          },
          "execution_count": 340
        }
      ]
    },
    {
      "cell_type": "code",
      "metadata": {
        "id": "YvQNCCp8QGRh",
        "outputId": "f34ccad7-6b9d-40e3-a790-76e5f6877480",
        "colab": {
          "base_uri": "https://localhost:8080/"
        }
      },
      "source": [
        "zscore = stats.norm.ppf((1 + confidence) / 2)\n",
        "zmargin = zscore * squared_errors.std(ddof=1) / np.sqrt(m)\n",
        "np.sqrt(mean - zmargin), np.sqrt(mean + zmargin)"
      ],
      "execution_count": 341,
      "outputs": [
        {
          "output_type": "execute_result",
          "data": {
            "text/plain": [
              "(49992.43859454087, 53828.90283663458)"
            ]
          },
          "metadata": {
            "tags": []
          },
          "execution_count": 341
        }
      ]
    },
    {
      "cell_type": "code",
      "metadata": {
        "id": "5Q5lZ766S-Fk",
        "outputId": "d1d0896e-9825-4024-976a-dbe93ef0879b",
        "colab": {
          "base_uri": "https://localhost:8080/"
        }
      },
      "source": [
        "!sudo apt git install"
      ],
      "execution_count": 342,
      "outputs": [
        {
          "output_type": "stream",
          "text": [
            "E: Invalid operation git\n"
          ],
          "name": "stdout"
        }
      ]
    },
    {
      "cell_type": "code",
      "metadata": {
        "id": "uhEZCDnMTAlo"
      },
      "source": [
        ""
      ],
      "execution_count": null,
      "outputs": []
    }
  ]
}